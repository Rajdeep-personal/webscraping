{
 "cells": [
  {
   "cell_type": "code",
   "execution_count": 1,
   "id": "68137053",
   "metadata": {},
   "outputs": [],
   "source": [
    "import numpy as np\n",
    "import pandas as pd\n",
    "import os\n",
    "import nltk\n",
    "#nltk.download()"
   ]
  },
  {
   "cell_type": "code",
   "execution_count": 2,
   "id": "aa46a992",
   "metadata": {},
   "outputs": [
    {
     "data": {
      "text/plain": [
       "'C:\\\\Users\\\\rajde\\\\Team_5_capstone'"
      ]
     },
     "execution_count": 2,
     "metadata": {},
     "output_type": "execute_result"
    }
   ],
   "source": [
    "os.getcwd()"
   ]
  },
  {
   "cell_type": "code",
   "execution_count": 35,
   "id": "1aabe8ef",
   "metadata": {},
   "outputs": [],
   "source": [
    "df = pd.read_csv(\"C:\\\\Users\\\\rajde\\\\Team_5_capstone\\\\Team_5_Flipkart_Asus_model_2.csv\")"
   ]
  },
  {
   "cell_type": "code",
   "execution_count": 36,
   "id": "9056234c",
   "metadata": {},
   "outputs": [
    {
     "data": {
      "text/html": [
       "<div>\n",
       "<style scoped>\n",
       "    .dataframe tbody tr th:only-of-type {\n",
       "        vertical-align: middle;\n",
       "    }\n",
       "\n",
       "    .dataframe tbody tr th {\n",
       "        vertical-align: top;\n",
       "    }\n",
       "\n",
       "    .dataframe thead th {\n",
       "        text-align: right;\n",
       "    }\n",
       "</style>\n",
       "<table border=\"1\" class=\"dataframe\">\n",
       "  <thead>\n",
       "    <tr style=\"text-align: right;\">\n",
       "      <th></th>\n",
       "      <th>Unnamed: 0</th>\n",
       "      <th>Reviewer_Name</th>\n",
       "      <th>Buy_Time</th>\n",
       "      <th>Feedback</th>\n",
       "      <th>Rating_Score</th>\n",
       "      <th>Review</th>\n",
       "    </tr>\n",
       "  </thead>\n",
       "  <tbody>\n",
       "    <tr>\n",
       "      <th>0</th>\n",
       "      <td>0</td>\n",
       "      <td>Flipkart Customer</td>\n",
       "      <td>15 days ago</td>\n",
       "      <td>Just wow!</td>\n",
       "      <td>5</td>\n",
       "      <td>Amazing phone, brilliant gaming experience. On...</td>\n",
       "    </tr>\n",
       "    <tr>\n",
       "      <th>1</th>\n",
       "      <td>1</td>\n",
       "      <td>Flipkart Customer</td>\n",
       "      <td>21 days ago</td>\n",
       "      <td>Worth the money</td>\n",
       "      <td>4</td>\n",
       "      <td>Pros 1) Excellent camera and pixel clarity 2) ...</td>\n",
       "    </tr>\n",
       "    <tr>\n",
       "      <th>2</th>\n",
       "      <td>2</td>\n",
       "      <td>Bharath S</td>\n",
       "      <td>13 days ago</td>\n",
       "      <td>Worth the money</td>\n",
       "      <td>4</td>\n",
       "      <td>Pros: (Top 5) 1. Display - Excellent brightnes...</td>\n",
       "    </tr>\n",
       "    <tr>\n",
       "      <th>3</th>\n",
       "      <td>3</td>\n",
       "      <td>Flipkart Customer</td>\n",
       "      <td>14 days ago</td>\n",
       "      <td>Best in the market!</td>\n",
       "      <td>5</td>\n",
       "      <td>Wonderful smartphone..... Screen is crisp and ...</td>\n",
       "    </tr>\n",
       "    <tr>\n",
       "      <th>4</th>\n",
       "      <td>4</td>\n",
       "      <td>Ashish  Rao</td>\n",
       "      <td>22 days ago</td>\n",
       "      <td>Highly recommended</td>\n",
       "      <td>5</td>\n",
       "      <td>performance on Top 🔥🔥</td>\n",
       "    </tr>\n",
       "    <tr>\n",
       "      <th>5</th>\n",
       "      <td>5</td>\n",
       "      <td>tushar singh</td>\n",
       "      <td>16 days ago</td>\n",
       "      <td>Best in the market!</td>\n",
       "      <td>5</td>\n",
       "      <td>Supeb Feels premium in hand</td>\n",
       "    </tr>\n",
       "    <tr>\n",
       "      <th>6</th>\n",
       "      <td>6</td>\n",
       "      <td>Sahil Lalani</td>\n",
       "      <td>18 days ago</td>\n",
       "      <td>Terrific purchase</td>\n",
       "      <td>5</td>\n",
       "      <td>Excellent Product Worth Money. Best Gaming Gad...</td>\n",
       "    </tr>\n",
       "    <tr>\n",
       "      <th>7</th>\n",
       "      <td>7</td>\n",
       "      <td>Raja K</td>\n",
       "      <td>6 days ago</td>\n",
       "      <td>Moderate</td>\n",
       "      <td>2</td>\n",
       "      <td>Worst fingerprint reader I ever seen. Over hea...</td>\n",
       "    </tr>\n",
       "    <tr>\n",
       "      <th>8</th>\n",
       "      <td>8</td>\n",
       "      <td>AKSHAY KS</td>\n",
       "      <td>8 days ago</td>\n",
       "      <td>Highly recommended</td>\n",
       "      <td>5</td>\n",
       "      <td>Bought it for daily use. Its the best out ther...</td>\n",
       "    </tr>\n",
       "    <tr>\n",
       "      <th>9</th>\n",
       "      <td>9</td>\n",
       "      <td>Flipkart Customer</td>\n",
       "      <td>10 days ago</td>\n",
       "      <td>Not good</td>\n",
       "      <td>2</td>\n",
       "      <td>Battery is draining too fastas it has 6000 mah...</td>\n",
       "    </tr>\n",
       "    <tr>\n",
       "      <th>10</th>\n",
       "      <td>10</td>\n",
       "      <td>Flipkart Customer</td>\n",
       "      <td>10 days ago</td>\n",
       "      <td>Not good</td>\n",
       "      <td>2</td>\n",
       "      <td>Battery is draining too fastas it has 6000 mah...</td>\n",
       "    </tr>\n",
       "    <tr>\n",
       "      <th>11</th>\n",
       "      <td>11</td>\n",
       "      <td>Raj desai</td>\n",
       "      <td>4 days ago</td>\n",
       "      <td>Just okay</td>\n",
       "      <td>3</td>\n",
       "      <td>Too much heating problem ..</td>\n",
       "    </tr>\n",
       "  </tbody>\n",
       "</table>\n",
       "</div>"
      ],
      "text/plain": [
       "    Unnamed: 0      Reviewer_Name     Buy_Time             Feedback  \\\n",
       "0            0  Flipkart Customer  15 days ago            Just wow!   \n",
       "1            1  Flipkart Customer  21 days ago      Worth the money   \n",
       "2            2          Bharath S  13 days ago      Worth the money   \n",
       "3            3  Flipkart Customer  14 days ago  Best in the market!   \n",
       "4            4        Ashish  Rao  22 days ago   Highly recommended   \n",
       "5            5       tushar singh  16 days ago  Best in the market!   \n",
       "6            6       Sahil Lalani  18 days ago    Terrific purchase   \n",
       "7            7             Raja K   6 days ago             Moderate   \n",
       "8            8          AKSHAY KS   8 days ago   Highly recommended   \n",
       "9            9  Flipkart Customer  10 days ago             Not good   \n",
       "10          10  Flipkart Customer  10 days ago             Not good   \n",
       "11          11          Raj desai   4 days ago            Just okay   \n",
       "\n",
       "    Rating_Score                                             Review  \n",
       "0              5  Amazing phone, brilliant gaming experience. On...  \n",
       "1              4  Pros 1) Excellent camera and pixel clarity 2) ...  \n",
       "2              4  Pros: (Top 5) 1. Display - Excellent brightnes...  \n",
       "3              5  Wonderful smartphone..... Screen is crisp and ...  \n",
       "4              5                              performance on Top 🔥🔥  \n",
       "5              5                        Supeb Feels premium in hand  \n",
       "6              5  Excellent Product Worth Money. Best Gaming Gad...  \n",
       "7              2  Worst fingerprint reader I ever seen. Over hea...  \n",
       "8              5  Bought it for daily use. Its the best out ther...  \n",
       "9              2  Battery is draining too fastas it has 6000 mah...  \n",
       "10             2  Battery is draining too fastas it has 6000 mah...  \n",
       "11             3                        Too much heating problem ..  "
      ]
     },
     "execution_count": 36,
     "metadata": {},
     "output_type": "execute_result"
    }
   ],
   "source": [
    "df"
   ]
  },
  {
   "cell_type": "code",
   "execution_count": 37,
   "id": "4a2d1e1e",
   "metadata": {},
   "outputs": [],
   "source": [
    "only_review = df[['Review']]"
   ]
  },
  {
   "cell_type": "code",
   "execution_count": 38,
   "id": "db1ffcf2",
   "metadata": {},
   "outputs": [
    {
     "data": {
      "text/html": [
       "<div>\n",
       "<style scoped>\n",
       "    .dataframe tbody tr th:only-of-type {\n",
       "        vertical-align: middle;\n",
       "    }\n",
       "\n",
       "    .dataframe tbody tr th {\n",
       "        vertical-align: top;\n",
       "    }\n",
       "\n",
       "    .dataframe thead th {\n",
       "        text-align: right;\n",
       "    }\n",
       "</style>\n",
       "<table border=\"1\" class=\"dataframe\">\n",
       "  <thead>\n",
       "    <tr style=\"text-align: right;\">\n",
       "      <th></th>\n",
       "      <th>Review</th>\n",
       "    </tr>\n",
       "  </thead>\n",
       "  <tbody>\n",
       "    <tr>\n",
       "      <th>0</th>\n",
       "      <td>Amazing phone, brilliant gaming experience. On...</td>\n",
       "    </tr>\n",
       "    <tr>\n",
       "      <th>1</th>\n",
       "      <td>Pros 1) Excellent camera and pixel clarity 2) ...</td>\n",
       "    </tr>\n",
       "    <tr>\n",
       "      <th>2</th>\n",
       "      <td>Pros: (Top 5) 1. Display - Excellent brightnes...</td>\n",
       "    </tr>\n",
       "    <tr>\n",
       "      <th>3</th>\n",
       "      <td>Wonderful smartphone..... Screen is crisp and ...</td>\n",
       "    </tr>\n",
       "    <tr>\n",
       "      <th>4</th>\n",
       "      <td>performance on Top 🔥🔥</td>\n",
       "    </tr>\n",
       "    <tr>\n",
       "      <th>5</th>\n",
       "      <td>Supeb Feels premium in hand</td>\n",
       "    </tr>\n",
       "    <tr>\n",
       "      <th>6</th>\n",
       "      <td>Excellent Product Worth Money. Best Gaming Gad...</td>\n",
       "    </tr>\n",
       "    <tr>\n",
       "      <th>7</th>\n",
       "      <td>Worst fingerprint reader I ever seen. Over hea...</td>\n",
       "    </tr>\n",
       "    <tr>\n",
       "      <th>8</th>\n",
       "      <td>Bought it for daily use. Its the best out ther...</td>\n",
       "    </tr>\n",
       "    <tr>\n",
       "      <th>9</th>\n",
       "      <td>Battery is draining too fastas it has 6000 mah...</td>\n",
       "    </tr>\n",
       "    <tr>\n",
       "      <th>10</th>\n",
       "      <td>Battery is draining too fastas it has 6000 mah...</td>\n",
       "    </tr>\n",
       "    <tr>\n",
       "      <th>11</th>\n",
       "      <td>Too much heating problem ..</td>\n",
       "    </tr>\n",
       "  </tbody>\n",
       "</table>\n",
       "</div>"
      ],
      "text/plain": [
       "                                               Review\n",
       "0   Amazing phone, brilliant gaming experience. On...\n",
       "1   Pros 1) Excellent camera and pixel clarity 2) ...\n",
       "2   Pros: (Top 5) 1. Display - Excellent brightnes...\n",
       "3   Wonderful smartphone..... Screen is crisp and ...\n",
       "4                               performance on Top 🔥🔥\n",
       "5                         Supeb Feels premium in hand\n",
       "6   Excellent Product Worth Money. Best Gaming Gad...\n",
       "7   Worst fingerprint reader I ever seen. Over hea...\n",
       "8   Bought it for daily use. Its the best out ther...\n",
       "9   Battery is draining too fastas it has 6000 mah...\n",
       "10  Battery is draining too fastas it has 6000 mah...\n",
       "11                        Too much heating problem .."
      ]
     },
     "execution_count": 38,
     "metadata": {},
     "output_type": "execute_result"
    }
   ],
   "source": [
    "only_review"
   ]
  },
  {
   "cell_type": "code",
   "execution_count": 39,
   "id": "d54d4b58",
   "metadata": {
    "scrolled": true
   },
   "outputs": [
    {
     "name": "stdout",
     "output_type": "stream",
     "text": [
      "0 Review    Amazing phone, brilliant gaming experience. On...\n",
      "Name: 0, dtype: object\n",
      "1 Review    Pros 1) Excellent camera and pixel clarity 2) ...\n",
      "Name: 1, dtype: object\n",
      "2 Review    Pros: (Top 5) 1. Display - Excellent brightnes...\n",
      "Name: 2, dtype: object\n",
      "3 Review    Wonderful smartphone..... Screen is crisp and ...\n",
      "Name: 3, dtype: object\n",
      "4 Review    performance on Top 🔥🔥\n",
      "Name: 4, dtype: object\n",
      "5 Review    Supeb Feels premium in hand\n",
      "Name: 5, dtype: object\n",
      "6 Review    Excellent Product Worth Money. Best Gaming Gad...\n",
      "Name: 6, dtype: object\n",
      "7 Review    Worst fingerprint reader I ever seen. Over hea...\n",
      "Name: 7, dtype: object\n",
      "8 Review    Bought it for daily use. Its the best out ther...\n",
      "Name: 8, dtype: object\n",
      "9 Review    Battery is draining too fastas it has 6000 mah...\n",
      "Name: 9, dtype: object\n",
      "10 Review    Battery is draining too fastas it has 6000 mah...\n",
      "Name: 10, dtype: object\n",
      "11 Review    Too much heating problem ..\n",
      "Name: 11, dtype: object\n"
     ]
    }
   ],
   "source": [
    "for index,row in only_review.iterrows():\n",
    "    print(index, row)"
   ]
  },
  {
   "cell_type": "markdown",
   "id": "bc895186",
   "metadata": {},
   "source": [
    "### Writing each review line by line in separate"
   ]
  },
  {
   "cell_type": "code",
   "execution_count": 40,
   "id": "2c0b9d7a",
   "metadata": {},
   "outputs": [],
   "source": [
    "i = 0\n",
    "for index, row in only_review.iterrows():\n",
    "    if i> len(df):\n",
    "        break\n",
    "    else:\n",
    "        f = open(r\"C:\\\\Users\\\\rajde\\\\Team_5_capstone\\\\asus_model2_line_by_line\\\\\"+str(i)+'.txt', 'w', encoding = 'utf-8')\n",
    "        row_1 = row[0].replace(\".\",\". \")\n",
    "        page1 = nltk.sent_tokenize(row_1)\n",
    "        \n",
    "        for j in page1:\n",
    "            f.write(j + '\\n')\n",
    "        f.close()\n",
    "        i+= 1    \n"
   ]
  },
  {
   "cell_type": "code",
   "execution_count": 41,
   "id": "f64860b9",
   "metadata": {},
   "outputs": [
    {
     "data": {
      "text/plain": [
       "'Too much heating problem ..'"
      ]
     },
     "execution_count": 41,
     "metadata": {},
     "output_type": "execute_result"
    }
   ],
   "source": [
    "row[0]"
   ]
  },
  {
   "cell_type": "code",
   "execution_count": 42,
   "id": "9730b88f",
   "metadata": {},
   "outputs": [
    {
     "data": {
      "text/plain": [
       "Review    Too much heating problem ..\n",
       "Name: 11, dtype: object"
      ]
     },
     "execution_count": 42,
     "metadata": {},
     "output_type": "execute_result"
    }
   ],
   "source": [
    "row"
   ]
  },
  {
   "cell_type": "code",
   "execution_count": 43,
   "id": "e36b3279",
   "metadata": {},
   "outputs": [
    {
     "data": {
      "text/plain": [
       "11"
      ]
     },
     "execution_count": 43,
     "metadata": {},
     "output_type": "execute_result"
    }
   ],
   "source": [
    "index"
   ]
  },
  {
   "cell_type": "code",
   "execution_count": 44,
   "id": "cb859577",
   "metadata": {},
   "outputs": [
    {
     "data": {
      "text/plain": [
       "Review    Amazing phone, brilliant gaming experience. On...\n",
       "Name: 0, dtype: object"
      ]
     },
     "execution_count": 44,
     "metadata": {},
     "output_type": "execute_result"
    }
   ],
   "source": [
    "only_review.iloc[0,:]"
   ]
  },
  {
   "cell_type": "markdown",
   "id": "59ce20f3",
   "metadata": {},
   "source": [
    "## Trial Code"
   ]
  },
  {
   "cell_type": "code",
   "execution_count": 8,
   "id": "d2d29e3a",
   "metadata": {},
   "outputs": [],
   "source": [
    "review1 = pd.read_csv('0.txt')"
   ]
  },
  {
   "cell_type": "code",
   "execution_count": 10,
   "id": "b8b9d2a6",
   "metadata": {},
   "outputs": [],
   "source": [
    "with open('0.txt') as f:\n",
    "    lines = f.readlines()"
   ]
  },
  {
   "cell_type": "code",
   "execution_count": 11,
   "id": "84b2f7a5",
   "metadata": {},
   "outputs": [
    {
     "data": {
      "text/plain": [
       "['Best Samsung phone in this price range.Good battery back up.Decent Display.Fast fingerprint sensor.Rear camera quality is good.front camera is not up to the mark.90 Hz refresh rate is good.Good user interface.updated to one ui 3.1.there are some pre installed apps which can only be disabled.sound quality is low comparing with other smartphones in same price segment.using in low screen bightness noticed screen flickering.There is no screen protector or case in the box.Takes 160 minutes for full charge.This phone is not meant for gaming.For a normal gaming the phone is good, can play high end games without any lag and has good graphics.Overall nice product from SAMSUNG.ðŸ™‚']"
      ]
     },
     "execution_count": 11,
     "metadata": {},
     "output_type": "execute_result"
    }
   ],
   "source": [
    "lines"
   ]
  },
  {
   "cell_type": "code",
   "execution_count": 12,
   "id": "947bbef8",
   "metadata": {},
   "outputs": [
    {
     "data": {
      "text/plain": [
       "1"
      ]
     },
     "execution_count": 12,
     "metadata": {},
     "output_type": "execute_result"
    }
   ],
   "source": [
    "len(lines)"
   ]
  },
  {
   "cell_type": "code",
   "execution_count": 13,
   "id": "72ccebe2",
   "metadata": {},
   "outputs": [],
   "source": [
    "l1 = lines[0]"
   ]
  },
  {
   "cell_type": "code",
   "execution_count": 15,
   "id": "6668f531",
   "metadata": {},
   "outputs": [
    {
     "data": {
      "text/plain": [
       "str"
      ]
     },
     "execution_count": 15,
     "metadata": {},
     "output_type": "execute_result"
    }
   ],
   "source": [
    "type(l1)"
   ]
  },
  {
   "cell_type": "code",
   "execution_count": 18,
   "id": "7772c5f5",
   "metadata": {},
   "outputs": [
    {
     "name": "stdout",
     "output_type": "stream",
     "text": [
      "showing info https://raw.githubusercontent.com/nltk/nltk_data/gh-pages/index.xml\n"
     ]
    },
    {
     "data": {
      "text/plain": [
       "True"
      ]
     },
     "execution_count": 18,
     "metadata": {},
     "output_type": "execute_result"
    }
   ],
   "source": []
  },
  {
   "cell_type": "code",
   "execution_count": 21,
   "id": "3a9410c3",
   "metadata": {},
   "outputs": [],
   "source": [
    "l2 = l1.replace(\".\",\". \")"
   ]
  },
  {
   "cell_type": "code",
   "execution_count": 22,
   "id": "dc8c4488",
   "metadata": {},
   "outputs": [
    {
     "data": {
      "text/plain": [
       "'Best Samsung phone in this price range. Good battery back up. Decent Display. Fast fingerprint sensor. Rear camera quality is good. front camera is not up to the mark. 90 Hz refresh rate is good. Good user interface. updated to one ui 3. 1. there are some pre installed apps which can only be disabled. sound quality is low comparing with other smartphones in same price segment. using in low screen bightness noticed screen flickering. There is no screen protector or case in the box. Takes 160 minutes for full charge. This phone is not meant for gaming. For a normal gaming the phone is good, can play high end games without any lag and has good graphics. Overall nice product from SAMSUNG. ðŸ™‚'"
      ]
     },
     "execution_count": 22,
     "metadata": {},
     "output_type": "execute_result"
    }
   ],
   "source": [
    "l2"
   ]
  },
  {
   "cell_type": "code",
   "execution_count": 23,
   "id": "5a2756ed",
   "metadata": {},
   "outputs": [],
   "source": [
    "page = nltk.sent_tokenize(l2)"
   ]
  },
  {
   "cell_type": "code",
   "execution_count": 19,
   "id": "05ad5e4f",
   "metadata": {},
   "outputs": [],
   "source": [
    "#sentences = nltk.sent_tokenize(l1)"
   ]
  },
  {
   "cell_type": "code",
   "execution_count": 24,
   "id": "2fac81c9",
   "metadata": {},
   "outputs": [
    {
     "data": {
      "text/plain": [
       "['Best Samsung phone in this price range.',\n",
       " 'Good battery back up.',\n",
       " 'Decent Display.',\n",
       " 'Fast fingerprint sensor.',\n",
       " 'Rear camera quality is good.',\n",
       " 'front camera is not up to the mark.',\n",
       " '90 Hz refresh rate is good.',\n",
       " 'Good user interface.',\n",
       " 'updated to one ui 3.',\n",
       " '1. there are some pre installed apps which can only be disabled.',\n",
       " 'sound quality is low comparing with other smartphones in same price segment.',\n",
       " 'using in low screen bightness noticed screen flickering.',\n",
       " 'There is no screen protector or case in the box.',\n",
       " 'Takes 160 minutes for full charge.',\n",
       " 'This phone is not meant for gaming.',\n",
       " 'For a normal gaming the phone is good, can play high end games without any lag and has good graphics.',\n",
       " 'Overall nice product from SAMSUNG.',\n",
       " 'ðŸ™‚']"
      ]
     },
     "execution_count": 24,
     "metadata": {},
     "output_type": "execute_result"
    }
   ],
   "source": [
    "page"
   ]
  },
  {
   "cell_type": "code",
   "execution_count": 28,
   "id": "82e37d55",
   "metadata": {},
   "outputs": [],
   "source": [
    "output_file = open('test.txt', 'w')\n",
    "\n",
    "for r in page:\n",
    "    output_file.write(r + '\\n')\n",
    "\n",
    "output_file.close()"
   ]
  },
  {
   "cell_type": "code",
   "execution_count": null,
   "id": "24bcb6f2",
   "metadata": {},
   "outputs": [],
   "source": []
  }
 ],
 "metadata": {
  "kernelspec": {
   "display_name": "Python 3",
   "language": "python",
   "name": "python3"
  },
  "language_info": {
   "codemirror_mode": {
    "name": "ipython",
    "version": 3
   },
   "file_extension": ".py",
   "mimetype": "text/x-python",
   "name": "python",
   "nbconvert_exporter": "python",
   "pygments_lexer": "ipython3",
   "version": "3.8.8"
  }
 },
 "nbformat": 4,
 "nbformat_minor": 5
}
