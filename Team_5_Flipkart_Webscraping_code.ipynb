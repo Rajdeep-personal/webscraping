{
 "cells": [
  {
   "cell_type": "code",
   "execution_count": 1,
   "id": "3a4ccb5b",
   "metadata": {},
   "outputs": [],
   "source": [
    "from selenium import webdriver\n",
    "import time\n",
    "from bs4 import BeautifulSoup\n",
    "import numpy as np\n",
    "import pandas as pd"
   ]
  },
  {
   "cell_type": "code",
   "execution_count": 11,
   "id": "586bbc43",
   "metadata": {},
   "outputs": [
    {
     "name": "stderr",
     "output_type": "stream",
     "text": [
      "<ipython-input-11-5e0f81d63399>:1: DeprecationWarning: executable_path has been deprecated, please pass in a Service object\n",
      "  browser = webdriver.Chrome(executable_path=r'C:\\Users\\rajde\\Downloads\\chromedriver.exe')\n"
     ]
    }
   ],
   "source": [
    "browser = webdriver.Chrome(executable_path=r'C:\\Users\\rajde\\Downloads\\chromedriver.exe')"
   ]
  },
  {
   "cell_type": "code",
   "execution_count": 12,
   "id": "ebb44480",
   "metadata": {},
   "outputs": [],
   "source": [
    "def click(p):\n",
    "    try:\n",
    "        p.click()\n",
    "    except:\n",
    "        pass"
   ]
  },
  {
   "cell_type": "markdown",
   "id": "dbcf7f47",
   "metadata": {},
   "source": [
    "### Clicking on \"READ MORE\" for each review"
   ]
  },
  {
   "cell_type": "code",
   "execution_count": 4,
   "id": "cd4791ae",
   "metadata": {
    "scrolled": true
   },
   "outputs": [],
   "source": [
    "#xx = browser.find_elements_by_xpath(\"//span[@class ='_1BWGvX']\")\n",
    "#xx[:]"
   ]
  },
  {
   "cell_type": "code",
   "execution_count": 5,
   "id": "d423c60a",
   "metadata": {},
   "outputs": [],
   "source": [
    "#x = [click(x) for x in xx]"
   ]
  },
  {
   "cell_type": "code",
   "execution_count": 6,
   "id": "b8c426e7",
   "metadata": {},
   "outputs": [],
   "source": [
    "import re\n",
    "import time"
   ]
  },
  {
   "cell_type": "code",
   "execution_count": 13,
   "id": "07ce6407",
   "metadata": {},
   "outputs": [
    {
     "name": "stderr",
     "output_type": "stream",
     "text": [
      "<ipython-input-13-d2ecf9cfbc30>:14: DeprecationWarning: find_elements_by_* commands are deprecated. Please use find_elements() instead\n",
      "  xx = browser.find_elements_by_xpath(\"//span[@class ='_1BWGvX']\")\n",
      "<ipython-input-13-d2ecf9cfbc30>:18: DeprecationWarning: find_elements_by_* commands are deprecated. Please use find_elements() instead\n",
      "  containers = [i.get_attribute('innerHTML') for i in  browser.find_elements_by_xpath(\"//div[@class='col _2wzgFH K0kLPL']\")]\n",
      "<ipython-input-13-d2ecf9cfbc30>:29: DeprecationWarning: find_elements_by_* commands are deprecated. Please use find_elements() instead\n",
      "  for elem in browser.find_elements_by_xpath('//p[@class = \"_2-N8zT\"]'):\n",
      "<ipython-input-13-d2ecf9cfbc30>:33: DeprecationWarning: find_elements_by_* commands are deprecated. Please use find_elements() instead\n",
      "  for elem in browser.find_elements_by_xpath('//p[@class = \"_2sc7ZR\"]'):\n",
      "<ipython-input-13-d2ecf9cfbc30>:37: DeprecationWarning: find_elements_by_* commands are deprecated. Please use find_elements() instead\n",
      "  for elem in browser.find_elements_by_xpath('//div[@class = \"t-ZTKy\"]'):\n"
     ]
    }
   ],
   "source": [
    "reviewer_name = []\n",
    "rating = []\n",
    "only_review = []\n",
    "Overall_feedback = []\n",
    "clean_review = []\n",
    "buy_time = []\n",
    "\n",
    "init = \"https://www.flipkart.com/sony-xperia-xa1-plus-black-32-gb/product-reviews/itmey6qhy47xzhjf?pid=MOBEY6Y7NKWAQPXQ&lid=LSTMOBEY6Y7NKWAQPXQV00UNI&marketplace=FLIPKART&page=\"\n",
    "\n",
    "\n",
    "for page in range(1,21):\n",
    "    url = init+str(page)\n",
    "    browser.get(url)\n",
    "    xx = browser.find_elements_by_xpath(\"//span[@class ='_1BWGvX']\")\n",
    "    xx[:]\n",
    "    x = [click(x) for x in xx]\n",
    "    \n",
    "    containers = [i.get_attribute('innerHTML') for i in  browser.find_elements_by_xpath(\"//div[@class='col _2wzgFH K0kLPL']\")]    \n",
    "    \n",
    "    for container in containers:\n",
    "        doc = BeautifulSoup(container)\n",
    "        r = doc.find('p', attrs={'class':'_2sc7ZR _2V5EHH'}).text\n",
    "        reviewer_name.append(r)\n",
    "        \n",
    "        s = doc.find('div', attrs={'class':'_3LWZlK'})\n",
    "        rating.append(s)\n",
    "        time.sleep(10)\n",
    "        \n",
    "    for elem in browser.find_elements_by_xpath('//p[@class = \"_2-N8zT\"]'):\n",
    "        Overall_feedback.append(elem.text)\n",
    "    time.sleep(10)\n",
    "    \n",
    "    for elem in browser.find_elements_by_xpath('//p[@class = \"_2sc7ZR\"]'):\n",
    "        buy_time.append(elem.text)\n",
    "    time.sleep(10)\n",
    "    \n",
    "    for elem in browser.find_elements_by_xpath('//div[@class = \"t-ZTKy\"]'):\n",
    "        only_review.append(elem.text)\n",
    "    time.sleep(10)\n",
    "\n",
    "d1 = {'Reviewer_Name':reviewer_name, 'Buy_Time':buy_time, 'Feedback':Overall_feedback}\n",
    "df1 = pd.DataFrame(d1)\n",
    "\n",
    "#print(df1)"
   ]
  },
  {
   "cell_type": "code",
   "execution_count": 14,
   "id": "1aaa0686",
   "metadata": {
    "scrolled": true
   },
   "outputs": [
    {
     "name": "stdout",
     "output_type": "stream",
     "text": [
      "['5', '5', '5', '5', '5', '5', '4', '5', '4', '5', '4', '4', '5', '5', '5', '5', '1', '5', '3', '5', '5', '5', '4', '5', '5', '5', '5', '4', '5', '5', '5', '4', '5', '5', '5', '5', '5', '5', '5', '5', '5', '5', '4', '5', '5', '1', '4', '3', '5', '3', '5', '5', '5', '5', '3', '1', '5', '5', '3', '5', '5', '5', '4', '5', '5', '4', '5', '5', '5', '5', '5', '4', '5', '5', '4', '5', '5', '5', '4', '5', '1', '5', '5', '3', '5', '4', '5', '5', '3', '3', '5', '1', '5', '5', '5', '5', '1', '4', '5', '1', '4', '5', '5', '5', '5', '5', '5', '5', '4', '4', '1', '5', '5', '5', '5', '5', '5', '5', '5', '2', '4', '4', '5', '5', '4', '4', '5', '4', '5', '5', '5', '5', '4', '4', '5', '5', '5', '4', '5', '5', '5', '5', '5', '5', '5', '5', '5', '3', '2', '5', '5', '5', '3', '2', '5', '5', '3', '5', '4', '5', '1', '5', '5', '5', '5', '5', '5', '5', '5', '5', '5', '5', '5', '5', '5', '5', '4', '3', '5', '5', '5', '5', '5', '5', '5', '5', '5', '5', '5', '3', '5', '1', '4', '5', '5', '5', '5', '5', '5', '5']\n"
     ]
    }
   ],
   "source": [
    "rating_str= []\n",
    "rating_act= []\n",
    "r1 = []\n",
    "\n",
    "for i in rating:\n",
    "    i = str(i)\n",
    "    rating_str.append(i)\n",
    "#    print(type(i))\n",
    "\n",
    "for i in rating_str:\n",
    "    x = i.split('<img class=')\n",
    "    rating_act.append(x[0])\n",
    "#print(rating_act)\n",
    "\n",
    "for i in rating_act:\n",
    "#    print(i)\n",
    "    x = i.split('>')\n",
    "    r1.append(x[1])\n",
    "print(r1)"
   ]
  },
  {
   "cell_type": "code",
   "execution_count": 15,
   "id": "766770b3",
   "metadata": {},
   "outputs": [
    {
     "name": "stdout",
     "output_type": "stream",
     "text": [
      "['bought the blue one and have been using since one week. IPhone has become such a cliché these days, which is why I decided to go for Sony, which produces premium devices. First mid-range Sony phone with 5.5\" display. Very smooth operation. Super fast fingerprint sensor. Excellent cameras - although I personally found the front camera better than the back one. Two days battery backup on full charging and moderate usage. Heavy usage and all day internet/Wi-Fi will give you around 1.5 days. Even 15% battery will give you another 5 hours on stamina mode. Clear and loud speakers. Not to speak of the rich feel of the phone. Beats every other phone in this price segment, both looks and performance wise. Perfect size for small hands as well. Not too bulky like Samsung 5.5\" display phones. The blue one is an unusually cool colour, unlike the regular black and gold - trust Sony to include the best in its products.', 'Ok the review from me is the first tym i m doing it lets just talk about yhe designs and the premium look of the phone its totally like a proper feeling of a royalty so i m a heavy user i just played asphalt 9 pubg in high settings i get frame drops in pubg but asphalt 9 is smooth as owsm front camera is not that gd in low light but lit at day light tge 🔋 battery is the main beast in the phone u will only took 1hr 30 mins to charge the phone and it last a day for a heavy user the creation u have seen in sony smartphones are the same nd the fingerprint sensor is awsm man its fast man u should go about the about if you all aree tending to buy this beast. Ok so if u think that my review is helpful so dnt forget to like it', 'Compare all Sony Mobiles this XA1 Plus is great to use Everything is Good & working grea. In this Mobile Battery Capacity is more then all Sony models 😎 This Mobile is Great for all Sony Mobile Lovers 😍', \"A great phone. As expected by Sony. Got it in a good discount price. The price mentioned by the showrooms r quite higher than we cud get by flipkart. Thanks for the offer given during festival season. A great camera quality. Finger print sensor is also working good. People who needs to compare Sony with any other models pls stay away. Cos Sony is Sony. And oly Sony users know what it means. The UI is the best among any Android phones. Display is awesome. Front cam is a wide angle lens. Sound quality is good enough. No hanging issues. Pretty fast performance with the helio processor. Kudos Sony. Expecting a lot more products from u. And Omni tech is a good seller. A worth product for the best price. Haters stay away. Trust me. It's a great product..\", 'Fabulous just love it extremely handy and convenient front camera is okk and back rear camera is incredible....', 'Value for money Awesome phone with extreme battery pack and as well known awesome camera. Music quality is too good - feeling released from a jail after changing from apple i phone.', 'Amazing phone for the cost. Loved it. Blue colour is very cool. Sleek design, battery is also long lasting. For all those who like a big screen, this is a good choice...👌', 'I got it for 12127. best value for money. do not expect flagship camera, it is decent camera. display is cool. change it to warm. performence is avarrage in 2018. but worth the money. change camera settings for better performence. change the colours while viewing images.', 'The overall performance is decent, camera is okay not so significant with the 23MP camera, clarity of pic is great but the zooming is digital zoom, battery performance is great, display is okay but not so bright as compared to other device, the tone of display is somewhat bluish, sometimes it lags with opening instagram not always, and major bad thing is when you change sim or memory card it will shutdown automatically and then after restart it again restart. There is no dual 4g stand-by sim at a time..', \"Build quality of the phone is great Display is superb also the phone got oreo update. The main thing is the camera it's just awesome. Rich in details and looks vibrant. I loved the phone,brought the phone on big day sale at 18990. Thanks flipkart of the fast delivery 🚚. The phone worth every penny. Sony is Sony.\", \"Best mobile I ever used.. This mobile is a mid range beast.. Using this mobile for the past 2weeks.. Before this mobile I used Samsung Galaxy duos, Xperia SP, Xperia M4 aqua dual, Asus Zenfone 3, iPhone 5s and now this one. Here is the pros and cons in my point of view.. Pros. 1. Awesome display. The 5.5 inch full HD screen gives you an awesome experience while using it and the Sony's default font gives your phone a premium look while holding it. And in super vivid mode ur pics and videos looks magnificent. 2. Battery life. With the 3430mah battery you can easily use the mobile for nearly 2 days if are an average user and 1 day if you are a frequent user. With full time 4g connection and average use of surfing net, music and YouTube the battery lasts for more than a day for me. 3. Music. No need to mention here, Sony is always the best when it comes to music. Sony didnt lose its charm in this mobile too. 4. Camera. The rear camera with 23mp gives you clear pics with minute details. 5. Design. I don't know why people hate Sony's design. This mobile gives you a premium feel when you hold it. Don't get misjudged by others suggestion. Just visit Sony showroom and use the demo mobile, U will just love it. This is my 3rd Sony mobile. Sony is simply awesome. Don't simply go behind cheap Chinese mobiles bcoz of specs. CONS The only con I personally feel is the front camera, which is not upto the mark when compared to previous mobiles. It do take good pics in daylight. But in low light it will test ur patience.\", 'Pros : 1. Looks stylish and premium . 2. Great battery life. 3. Sound through ear-phone is too good. 4. Both front and rear camera are good. cons : 1. speaker output is not so effective. 2. Too big to carry.', \"This is a wonderful smartphone from Sony, it's very smooth to operate and doesn't heat while playing games, power utilization is great and charges pretty decently. Front cam is lovely without using beautification tools.. Back cam is 23 mp so obviously it's great and with exmor tech pics are flawless.. I love the music experience it's different from any other phone and it's in next level... Love the premium look.. I keep gazing at it every now and then.. 2 hands needed to operate and slippery back are disadvantages.. I have ordered a premium back cover which should give good grip.. I rate 4.5/5 for Sony Experia XA1 Plus.. Undoubtedly one of the best smart phones I have ever user...\", \"Got delivered in just 2 days and got it on the price of 14k for black colour. Product was well sealed and delivered without any hassle. Coming to the phone my verdict - Great for its price. Pros : 1. Excellent build quality - not IP rated but its splash proof as well as soon as u take it in your hand you can realise its build like a tank, sure its heavier than most 5.5 inch screen phones but thats a good thing. The back is sure plastic but in no way cheap. Much better than glass sandwiched phones which are too fragile. 2. The best battery life ever - After I used the battery king Moto Z Play(original ver) I came to terms that no phone can ever replicate that but to my surprise this just not only replicates the nos, it gets to much more heights. A 3430 mah battery on paper isnt extraordinary but in reallife its the best you can get. Sony's optimization coupled to power efficient processor and a 1080p display => This thing is a power monster. Coming to nos i consistently got 6+ hrs sot sometimes 7+ hrs but more importantly it has crazy standby nos. To test its battery life i turned on super vivid display mode, kept wifi + bluetooth + mobile data 4g + hotspot always on, used cast screen and nfc sometimes, 4 hrs of voice calls, 1-2 hrs of gmaing/ video watching, 4-6 hrs of browsing and this thing just amazed me, battery lasted for 1.5 days. On moderate use 2 days are no problem. On light use + stamina mode 3+ days. And yes I never needed to touch Ultimate stamina mode! 3. Sexy looks and design - I know this is subjective but i personally adore how this black beauty looks. Sure the top and chin bezels are quite big which might be a turn off for a lot of people but again personally i'll take this design over the stupid notch one any day. + the there are no side bezels and the screen sought of curves to the side similar to s6 edge, sexy as hell. 4. Super Software - Oreo update is available but i didnt update it, mainly because im getting great performance +battery life and im afraid to ruin it. Moreover I do not use google apps or any other apps to be honest so it doesnot bother me most of Sony's apps like Xperia album, music, video, email, sketch, calendar, s news, weather, camera , lifelog, clock, calculator are excellent and enough for my use. UI is close to stock and most of sony customizations are beautiful and Xperia themes too. No bloatware. 5. Fingerprint sensor position - This is one of the few sony phones with fingerprint sensor and this one has side mounted sensor which in my opinion is the best position. 6. Good Performance - In my use of 15 days, this phone has never lagged a single time and the animations are fluid. There are no bugs and the UI is slick and this phone never became hot during use or charging. Sure it is not blazing fast nor it has a great processor like sd 800 series but its processor is much better than sd 600 or 400 series bcoz of their heating and thermal throttling issues. Im not a heavy gamer nor do i care about having the latest and greatest so again no complaints whatsoever. 7. Exceptional sound quality - USP of sony phones it has good good sound output from speaker as well as headphones. No other phone in this price range can even come close. 8. Excellent call quality, network reception, wifi range, data speeds, in call clarity and volume and ring quality and volume - this is so much overlooked in buying a phone but these things are so important and make or break smartphone for me. 9. Good Camera quality - Sure it does not hv dual, triple, four or 100 camera modules and indeed it doesnot have perfect camera experience.But definitely you can take some amazing pictures just you need to tweak in some camera features for eg. enable manual mode, lower exposure a bit and manually focus before before taking and afterwards you need to keep phone steady for approx 1-2 sec. If the lighting is right you can produce some great looking shots with expetional details and colour very crisp and sharp shots. Front camera is decent but not great, selfie lovers look elsewhere but for occasional selfies it does a decent jobVideo quality is also decent but no slow motion or 4k recording sadly. And yes it has a physical camera shutter key which is useful as well as satisfyingly unique. 10. USB type C,Nfc, Fast charger in box - it supports fast charging and fast charger is supplied which works on pump express technology it charges on a good speed but to get exceptionally fast charging rates like one+ dash charger or oppo's vooc charger you need to disable an option in settings called battery care by sony , which i dont recommend since very fast charging degrades your battery life in long term. Cons: No phone is ever perfect and we can always argue that it can have more features greedily. 1. Poor flash unit - the flash light is not bright enough. 2. No OIS, no IR focus poor low light images. 3. Fingerprint sensor is fast but fails to detect fingerprint if finger is dirty or sweaty or misaligned\", 'This phone is very good means best phone at this price everything is good but the seller of flipkart like trust collection is very bad so I tell you if you want to buy this buy from somewhere else flipkart wrost service.....', \"❣ AMAZING PHONE FROM SONY ❣ -Performance,battery,ram etc are excellent enough for a normal user -Stylish design but little bit thick -Flipkart deriverd it within 2 days after I ordered it really surprising and fastest delivery ever. -Heats little bit when running high graphics games like pubg long time (it's normal) -camera not so excellent as comparing with dual cam devices but includes so many unique features like hand shutter,camara shutter key,wide angle etc -This phone is perfect in multitasking also support split screen,one handed usage etc NB: For those who are saying it's charging time very high......... it is due adaptive battery care charging is on inbuilt,we can disable it in the settings manually.\", \"Worst phone purchasing experience ever. Overall zero star to Sony. Ordered the phone(black) through Flipkart (Product sold by Omnitechretail) on 31st Dec. 2017 and got delivery on 1st Jan. 2018. Five Stars to Flipkart. I must say looks of the phone is superb and quite happy with the battery life too. I took some pictures and videos at wedding party and I got surprised with the result. Every feature seem working perfectly fine until 25 days post purchase. Sadly on day 26, I noticed problem with primary camera(black-reddish-pink screen with lines blocking the screen vertically). First, I thought I must have mistakenly done wrong something with the camera settings. So I checked the front facing camera and found everything working perfectly the way it should be. As I ran out of any possible setting for primary camera to get it fixed, I did factory reset but still problem remained the same. Then next I started looking for service centre in google... Here comes another shock as i found out most of the service centres are permanently closed except fews which are not conveniently commutable for me. I seemed to have no option than to visit any working centres. So I went up to Service Center at D-16 Kamla Nagar, North Delhi from South on 28th Jan 2018. I was happy with the customer friendly environment at the centre but shockingly they said it will take one week time to fix the camera and asked me to deposit the phone. I complained as to why needed a week time just to fix the camera? They said, they didn't have the material at their centre and need to send it to the regional service centre to which I agreed and asked for standby phone to use while the phone is getting fixed. They said all the phones they had had been lend out. Need not have to mention everything I had been through... Horrible...I had to buy new phone for standby. Now, It's been a week by today and I'm patiently waiting for a msg from Sony, regarding the repair status but haven't received one as of 3:45 pm ist on Feb 3rd. Called service centre several times but never picked up. I can't imagine when/how Sony market has been gone down to this pathetic level. I had a bad story from 2013 Sony purchase too. I bought Experia ZR back then.. Bottom line, this gonna be one last purchase from Sony ever again. Period🤤 Buyers, think twice and keep a safe distance from Sony or you may land up in a similar accident.\", 'Total value for money, awesome amazing outstanding marvellous superb fantastic fabulous', \"+ve Notes: 1. Stylish look. 2. Bright camera. 3. Moderate display. 4. Good screen touch / scroll. 5. Nice speaker quality. 6. Good speed - mobile / internet. 7. Good battery life. -ve Notes: 1. Hangs a bit occasionally. (But that's fine since all smart phones does it) 2. Restarts automatically sometimes. (Not aware it's for security reason or what) 3. Headphones not par as expected. (Not sony'genic nor Sony power in it) 4. Little thick body compare to today's generation. (But much Stylish) 5. Little more weight. (But par)\", \"Feel the change in your life and become faster.. So here is review Most great things of xperia xa1 plus are its display and sound quality (set music app setting_audio_head phone on sony mh410 for pure bass) also now you dont need third party file manager just update ur phone to grab it.. Now come to battery.. Its great lasts two days easily and without any heating issue..(24 consumed on acerage use of 1.5 hr calling and 2hr listening music and continuous data on.. Camera is also good somtimes you can click manual mode photos to adjust brightness for good results.. I would like to say that this phone dont has vilte option that means you can't make video calls without third party app.. There was another issue with msgs not sent that can be rectified using *#*#4636#*#* service menu and manually entering msg center number( for jio sim i faced it) This phone has many advanced features due to which some people return it back as they think its a fault but actually isn't so. I would like to tell you that when i was using samsung Internet speed was around 600kpbps average and now its 1.4 mbps (not talking about peak speed) so you can see difference of faster processor. Thank you This was my own review after using arround 16 days Hope it helps.\", 'The phone is awesom, it has an elegant appearance and also has good battery backup, you can trust Sony and also thanks to flipkart for fast delivery', 'After 2 days of using..I can say It is not a worthy set. I purchased it at ₹ 12127. Battery is draining too fast. Consumed 5% having used only 5 minutes of surfing at half display brightness. First time full Charging time 3 hours 10 minutes from 0 % to 100% that is quite disappointing. It is shown by the Sony that is is having fast charging. Making fool. Not a VoLte. Dont think as it is a VoLte set. Update was available as Oreo 8.0.0 Camera only to say 23 mp, pics are looking like 10 mp. Front Facing 8 mp also disappointing. Earphone available that is average. Think twice before you buy. Really disappointed Sony', 'Smart charging is really smart observe your charging habit and charge your phone according to that. Battery performance is superb with full usage it lasts for whole day. Camera is also comparable with flagship phones. System performance is very good like for install any app installing time is very short. Over all it is right phone to spend money. This phone gives a super phone performance. 6 stars out of 5.', 'I am just loving it.... Great battery with awesome camera both rear and front and the phone looks stylish and comfortable in hand. I thought it was running on android 7 nougat but it was actually running on oreo straight out of the box... More than satisfied!!!', 'The Best Camera for this Price. I thought of buying the XA1 , but after reading all reviews i chose the XA1 Plus. I think the buy was worth 18990/- for the Gold. Though the gold is Yellow gold and not Rose Gold as shown in the picture. Its seamless in working .. Just cant complain. And guess what ...... It can upgrade to Android 8.0.0. Mine Just did after running system updates , i now have a latest software with the best camera. Yes , it does update to Android Oreo ... FREE OF COST. So you have a 21MP Camera Phone with Android Oreo . Cheers!!', 'Got the phone within 4 days from flipkart . 1. Crystal cleare sound in head phone 2. Camera with 23 mp is really very clear and crispy 3.Display is great but samsung A5 is greater 4. Small speaker but out put is good 5. Missing duel camera for boke mode capturing Overall satisfied', 'Asked to deliver it before 3pm , dunno if the executive had called the ekart master n made it delivered before 3pm or its a coincidence, somehow was delivered . Loved it !! Ps : at the time of paying they say it will delivered tomorrow , after paying it says it will be delivered day after 2mrw ! Happened thrice ! Was happy with F-Kart Service !', 'Nice mobile wid good camera. Touch is so smooth and sound is awesome. Look wise is also very good.', 'Excellent Phone with Brand value, Value for Money. The Best Camera, Fast Internet surfing, clear cristal voice in calling and music.', \"Fastest delivery ever less than 24 hrs. Best display with fast fingerprint sensor. Audio quality and speaker are nice. Performance is greater than expected and battery life is the best. I got almost 12 hrs of continuous usage. Camera is good as usual because it's sony. All specs are good. Never expected that Sony would give these specs for this price. It's the best one of midrange mobiles\", 'Really amazing mobile as good as expected....... Im saying this after 2 months of usage...... Good camera but not that much great... Battery backup is great.... Nice performance nd good display..... Really good while watching movies in this mobile and finally music awesome..... We can clearly listen the lyrics in sony mobiles only..... Thanq', 'Using this as my official phone. I bought this as a secondary phone to my iPhone 5s. My intention was to separate all my official apps and mails from iPhone as my 5S is only 16 gig and needs to be charged 4 times daily for all my heavy usage. So my intention is I want a better Screen Battery (Most important) At least 60% performance of flagship phones. Compared to my 5S: Excellent display. You feel almost like an OLeD display. Superb contrast. Excellent for reading my official mails with the screen and the without the notch nonsense. Super Battery. 1 full charge lasts for 1 and a half days with always LTE on. But I turn it off while I sleep. Anyway for 1 day at least 12 hours on LTE. For this usage, it goes from 100 % to ~30% in 1 and a half days. No Performance issues. So far I use outlook app, my company apps, MS Intune, Whatsapp, Pluralsight, Udemy, YouTube, Asphalt Nitro. They all work seamlessly without any heating. Device gets a little heated when personal hotspot is enabled. Average Camera 24 megapixel ? Yes. But it lacks the pixel density and definition. However photos looks OK on phone display and small displays. Anyway the shutter button and the manual adjustments in stock app is good. But overall, disappointed with camera since it’s a Sony. My 6 year old 8 MP 5S produces far better images. Almost Raw Oreo The Launcher and OS is pretty stable and almost like stock OReo. UI is also simple and neat. Sony has excellent support guide in their website. Just google any issues and you can find official Sony website stating the solution. Build Quality Yes it’s a Sony, device rarely heats up, sound is brilliant(even though mono speaker), metallic body is strong. Almost in par with iPhones. I think Sony produces the best build quality at this budget. MI, Moto, Lenovo not even close. Hold the both in hand and feel the difference. My Verdict: This phone is for those who want stable phone with long battery life. Good to watch videos (online and offline), play not much resource hungry games. Good for regular travelers who want their phone to be reliable.', 'It was a nice experience with flipkart, bcz of the delivery response, i really excited. After i ordered, the third day somebody called me from your distribution outlet, your item is ready . The Production is also good and worth for money. Great job..', \"I was disappointed initially with the very poor back up of this handset. But with just a factory reset, it got improved with one and half day back up. Stamina and ultra stamina modes works better for the longer battery back up. I'm very much satisfied with the back up and built. Performance and sound quality are also super good. But I'm not happy with camera quality.\", 'Awesome mobile, good camera, I would like to say network access in this mobile is very good over all mobile is super cool in performance, battery awesome, I really impressed by Sony and camera...... Worth for money.', \"Too good at price of Rs 6990. Excellent bought. Sony mobile first time bought. today I saw again price it's showing 19000. I was shocked to see the price. Huge price drop earlier. Mind blowing purchase. Coming to speacilization of this phone, all things great except camera. Not updated software yet. may be after update camera will be better. overall at under 7k, very nice. Nothing better than this. Thanks to seller n Flipkart.\", 'Mind Blowing Product From Sony.. Brand Is Always Special.. Best Mid Range Mobile In This Price.. Front Camera Quality Only Little Disappointing, Otherwise Its Top On The Race.. Fully Satisfied.. Thanks Sony.. Love You..', 'I love Xperia.... The phone is more than what I expected... Camera good one.... Processor good... Battery life average.... Display I love you..', 'The phone is good performing but litl hanging when it over using gaming nd al is not batter camara nd display is not better avrage Battery nd touch is better value for money', 'Very good product from sony and a prompt delivery by flipkart.. This phone has folllowing pros.. 1.No hanging of phone.2. No heating. 3.High end games go very well. 4.Selfie camera is very good. 5.Very good sound output. 6. Battery when charged full lasts for minimum 36 hrs.. The cons are.1.Battery takes about 3.5 hrs for full charging.', \"Awesome and sexxy. Sony's amazing sound and full HD. DISPLAY. I hav't word. For. XPERIA XA1 PLUS!!!!.DARZLIGGG. Amazing camera. Details with vivid and x reality engine!\", 'Great sound quality, good image enhancement super vivid display', \"Not good battery backup and this is one of the worst mobile go for other mobile do not buy Sony camera not good no sensor work finger frint not good total worst mobile and money I look other mobile can by nice plz don't buy and very fat like a tatamobil\", 'Just buy it.... Order it without any second thought... Awesome mobile, looking 1st class proffisional...... Display mind lowing, design super..... Camera very good, takes photos in reality.... Just forget about 19:9....even it is black and screen black.... Looks awesome jet black screen..... But smart gustures', 'Nice premium feature Smart Phone, superior sound quality, highly recommended for sound quality lover. Never compare with Chinese brand. Thanks for Sony R&D team for makes detailed work for sound and camera quality. Some Highlighted features. 1. Stamina Mode & Ultra Stamina Mode perfect for during Traveling, its increases the battery backup time. Tested up to 7 hour more battery backup. 2. Xperia assist, it help to set your daily compute automatically (Like Enable / Disable Wi-Fi, DND, Bluetooth, App Functions and many more important task as users configuration ) This function is very help for professional and road warriors. 3. This phone come with C type USB and its reversible. This mean users can charge other devices from this phone (In emergency), use as a MIDI port for your Musical Instrument, Transfer for your file etc. 4. This phone is fully ready for BYOD and MDM configuration, means users personal and corporate data highly secure. 5. As mention OS version per install Android 7.x but it comes with Android 8.0.0, only old manufacture date phone come with Android 7.x version and users can update manually or it auto upgrade by OTA.', 'Sony has brand value.. im a photography lover so i choose XA1 PLUS 23MP camera and im not satisfied with camera. PHOTOS LIKE 5 MP CAMERA.', 'Good phone , good camera and display sound is not much better than my previous phone Lenovo k4 note, only one speaker no dts ,Normal sound . good battery backup.', \"Not satisfied with camera performance. somehow rear camera is able to manage in manual mode but it could be better with software update which is not provided by Sony. front camera is totally out of the way. No video calling support through normal call(as in India most mobile phone provide it due to RJIO) Take very long time to charge battery up to 100% though it is saying quick charge support. Only one SIM can be at 4G at a time. No latest Android update. so it can be said that it's over priced as compared to new brand smart phone. it's should be priced at around ₹10000- 11000.\", 'The mobile feels very premium, looks almost like a 50k smartphone. The best thing about the phone is its picture quality which is off the chart with super vivid mode.', 'Great build, good performance and superb display. Camera is average. Both front as well as rear cameras are average. Call quality, network reception is excellent.', \"This is really nice handset. specially the sound quality is the best and battery life is a bit more than average. I like the most it's call clarity. camera is ok.\", 'Authentic and best e-commerce site is my favorite flipkart..and also the best Sony ph I have ever purchased... Thanks flpkrt!', \"Sony is Sony, class matters. I have used smartphones from almost all leading companies but this is the best. I got this one in 13.5k, best deal available in the market. Superb sound, posh metallic look, amazing display, above average camera, generous battery life and smooth performance. Go for it guys.Unfortunately I had to change my phone after one year of usage just because the memory card slot went kaput.It's a pity that sony has stopped making phones.I now use blackberry evolve but it's just pathetic in comparison to sony.\", 'Great Product, Sony has never compromised on quality, display, music and camera. Thanks Flipkart for the in time genuine Product delivery. Thank you Sony, do produce such products more and more.....', 'sony is a great company but needs more saturation over a low budget agenda too the phone build is a great quality and everything is good but is not upto mark as expected', \"The phone look really sleek and premium but its display sucks and it started showed touch issues from the second day only. The rear camera is far more better than needed but the front camera actually sucks. Battery life is good but the phone's colour showing capacity again is a dissapointment. The colour are cool and du\", 'Using a Xperia mobile after a long period of time. This mobile (got it for 12.6K) is excellent for the price. Insane battery life, very good camera, full HD resolution with high ppi, very good sound quality and excellent call quality. Runs on Android oreo but perhaps this is the last major update. The charger is of very good quality and supports fast charging for the mobile. Charger rated at 5V.2700mAh. The earphone is old styled earbud type(without foam pads) which most of us will dislike. Though I personally like these earbuds as they reproduce sound similar to open back headphones, but Sony should have included an in ear bud which would have been more bassy and liked by the masses. Lastly one more thing for those who need the information - this mobile supports USB-C DACs when played through specific applications meant for that, and I love this feature.', 'Good Product and Good Effort By Flipkart and Good Service by flipkart agent Good behaviour I am very happy with Flipkart All Work Very well in future 6', \"Phone is very good in looks wise and design. Battery is good for normal users. camera is okay but not as expected. Audio quality is good. Few pre installed apps are in this phone which we don't need and unable to delete from phone. if we want to delete we might need root access and touch screen responce is also bit slow. coming to performance it is very slow and the processing time is also slow in this phone. They given fingerprint sensor with power button and it is bit difficult to access. over all looks wise phone is good and performance wise it is okay. Pros: Ram design Display premium look Cons: processor slow performances Camera quality Phone Touch Some Default apps in pphone\", \"Little doubt about product before buying.. Finally I GOT AT 12K.. FOR THIS range it's very good one.. Fingerprint sensor is good sound 🔊 also good 📸 little slow response quality not expected for 23MP GOOD 🔋 backup no comparison with other mobiles... Sony is Sony. I'm a Sony lover\", 'Sony has been my favorite for years, but there always were battery issues. But not this one. XA1 Plus is worth every single penny. The battery for a average user would easily last 36 hours with the phone being on full brightness and without stamina mode on. With stamina mode on and brightness at 50%, i am sure it will last 48 hours. Touch is responsive. The built and feel is premium. Phone is a little heavy but completely acceptable. Software updated to Oreo. Uploads& Downloads are pretty fast. Camera Quality is pretty good. No complaints. Can be brought with eyes closed', \"Sony is always perfect with its clarity and amazing sound effects. If it's weightless it will be too good. otherwise it rocks as ever\", 'mobile build quality is awesome as expected of sony. I am pretty much disappointed in the fact no android pie update will come though, Camera performance is great but take time to process so No fast capture on the go. Battery life is awesome, I use it daily in the above average basis but battery still goes half day without any sweat, I am not using any stamina mode too.I only hope now for android pie upgrade.', 'Good mobile with all modern features but am not satisfied with camera quality that too front camera is wrost. My old mobile Sony expria z camera quality is far better than this mobile. Rest all very good', 'First of all service was too good thanks flipkart. Over all phone is good but front cam could hav been better. Not so good in low light, little blurry.', \"it's good & valuable .aal features are good and backup is very good . camera very good. processing is also good... total fantastic\", 'Xperia really awesome product... camara ultimate... Battery pack up well users 1 day low users 1 1/2 days must buy it.. I fully guaranteed...', 'Awesome experience.. Received the product before time👍', 'Sony is best product', 'Gr8 device.', 'Worst slow delivery by flipkart, fully disappointed, sony xperia xa1 is full loaded all rounder phone five star is for only sony. One star for flipkart delivery.', 'awesome mobile', 'Simply superb', 'classy look.. header and footer are big but looks great... sony did smth different this time... go for a low budget great phone', 'worth for money', \"It's my second phone from Sony. And I have no complaint from either of the phone. Looking for trouble free stylish phone sony xperia is the answer.\", 'Awasome. Sony make believe.', 'Superp', 'Everything is fine except battery', 'Till now its gud, battery is fantastic', 'osm product flp crt fast delivery', 'Super mobile', 'Best phone from best brand Highly recommented', 'mobile was heat when camera is on 5 minutes more.. otherwise no heat', \"Original camera. Best battery performance. And also good looking phone. It's performance is too good\", 'very good product', 'Super phone 📱', 'Excellent product Sony Xperia', 'rear camer is bad no clarity in image', \"Average Camera, battery performance is good, sound quality it's nice without earplugs and with earplugs\", 'Awesome phone must buy', 'Item is very heating behind the camara. It not a fastcharge mobile. Any one dont buy this one. Because of sony features are not provide in this phone.front camara is very poor. Dispalay8/10', 'super performance Mobile', 'Very good phone.... Premium look it is very super.. Sound clarity is very very excellent performance', 'Looking amazing, camera good, sounds outstanding, display perfect, battery capacity okay and processes enough! Good phone.', 'Best in the market, I like', 'dead after 8 month', 'I am experiencing the Sony XA 1 Plus. Its incredible. Feeling fantastic.', \"Nice mobile, gorgeous look and fell,just awesome!!!! Beware of fake reviews,I too doubt about buying this beauty but when I got this mobile I'm happy\", 'really flipkart is flopkart.....because flipkart cheating to costomers.....I had ordered a brand new xperia xa1 plus but flipkart sent a refurbished xa1 plus .flipkart taken money for brand new smartphone but gives me a refurbished smartphone', 'good product', \"Excellent Flipkart delivery & Quality of the products. Product is simply superb. With Sony, not only the processor matters but also the brand value is being maintained. some may feel by seeing the current scenario of smartphones from various companies that screen ratio and processors. Regarding processors it doesn't make much more difference. Trust me it is the awesome product. I too was wondering that I should buy the product or no. After going through one of the review which states that, Don't go by the negative ones, Just blindly purchase. Don't go by negative reviews. Thanks to Flipkart once again.\", 'Best product by Sony', 'Very nice charging and perfect phone', 'Awesome product.. Really enjoying it.. Looks very premium..', 'Excellent phone. As always Sony Xperia up to the mark.', 'Rear camera is excellent. SOUND QUALITY IS EXCEPTIONAL IN THIS PHONE. BATTERY BACKUPP 1DAY WID MODERATE USAGE. SUPERB BUILD QUALITY. AWESOME MOBILE', \"asweme experience.lookwise its a 40 thousands ranging mobile.the battery backup is good and too fast charging.no doubt about sound quality because it's sony.i'm fully satisfied.just go for it.\", \"Display and phone performance is awesome. Of course it's outdated model but better than all Samsung phones. Camera is nice while viewing the photos. Mainly user interface is nice. Battery backup is good. Phone is heating up when using camera. Flipkart packing is not good. I'm a fan of Sony products 👌👍 :)\", 'Superb .....at this rate...', \"Phone found in used condition.. Why flipkart giving assurity to the products and sellers whom doesn't deserve?This the the worst thing, u should check the product before assuring it..Seller is toolazy and creepy..phone deserves 4 stars bt giving 2 because of seller and flipkart's management.\", 'Nice Sony Xperia phone. I really like it.', 'Perferct phone...... Batry very nice.....back camera very good.... Front ok..... Better go for xa1 plus... Instead of anyhigh range fone like one plus or samsung.... Looks... Omg u hav no idea.... It kills...... Just perfect..... Slightly heating problem when u charge and use simultaneously... Bt that is slight so can be ignored... Theames can also be changed...', 'Premium look.Love it. Battery ,user interface,camera ,everything is superb.Lucky one that I bought it', 'This is my first review in online shopping The phone looks premium.. battery capacity is awesome.. i left with 40% after using full day with mobile data on There no lags so far. there was error coming after update no issues.. Fingerprint is too fast i am impressed.. Attached photos I have taken evening at 6', 'Great product', 'Best in class', 'This phone is gives very awesome gaming performance and premium quality and camera is good perfect wide cam.. go on it', 'Good', \"don't buy...display was gone with in 3 months with out any damage\", 'every things is good, but 4g jio direct video call not available.', 'Very nice phone..good camera quality but not that much ,good battery backup,stability.. High durabili phone..', 'Guys dont listen to anyone... just go fot it.. such an amazing mobile... sony da best...No lagging ..not much heating as well..i have played Dead effect 2 (1.10Gb) one of my fav... played almost half n hour no lagging ..battery back up is gud as well...over all satisfied.. nd thanx 2 flipkart for delivering 2 days before due date..nd Omnitech retail I doubted u first.. but u proved me dat I was wrong... gud service as well frm u.. whoa I forgot to tell someone said screen mirroring is not working...i dunno abt u.. but mine working soo koool played my game in TV, Model: Sony bravia W800d... PEACE...', 'This phone is very attractive for Sony lovers. Design, sound, camera, All is very good. Battery backup is more than a day for a moderate user. I love this phone.', \"Don't look at any other phone. Just one this sony enough for us... Nothing can beat this. Only sony can beat the sony...\", \"writing this review after 1 yr. of usage. Excellent touch screen & finger print sensor. Never had phone hung trouble. Smooth performance. Doesn't get heated up. Atleast 10 hrs of battery back up with data on. Not much satisfied with 23 MP camera..\", 'Sony is always awesome', 'So nice camera', 'my all time favorite Sony mobiles .... awesome speed and performance.... camera good... battery use 1 and half days with interest....I got this phone Rs 13990', 'Simply awesome SonY always SONY... Hearing songs taking snap was simply cool battery was pretty good.... Sony rox...', \"It's an amazing phone. Performance. Camera is good and display is amazing.\", 'Slim and stylish mobile, display is nice, camera is just ok. awesome sound quality with rich bass in Bluetooth headsets .performance is good.over all good.nice purchase below 20k.intime delivery.👍', 'Nice product', 'Nice', 'Best phone I ever had.', 'Perfect', 'Received the product without any damage and I. Original box. Expected much more camera quality. The camera is not good for macro shoot. Battery life is really good. Sony Stamina mode is really helpful. Stays for more than 2 days.', 'Very good phone. Never hangs. Some problem lies with on off button, which is more soft than required. On the whole it is a very good product.', 'using it for a month.. battery lasts for 1 full day even with heavy usage.. fingerprint sensor is terribly fast and it sometimes unlocks the phone unwantedly.. slight heating issue when camera is open for a long time.. full charge in 2.5 hours.. multi-tasking is fast and no lags..', 'Thanks flipkart', 'Amazing price for a great deal and a great experience', \"Awesome phone. Pls do not compare with cheap Chinese phones. Pros- 1) Awesome Camera in both Day light &. Especially in low light. 2) Call quality is great. 3) Battery's performance is good. 4) Nice memory management. Cons- 1) Sometimes performance lags when 8-9 applications are opened. 2) Little heavy.\", 'I love my new phone!', 'my mobile battery problem', 'awsome mobile from sony..', 'Display quality is superb, color contrast amazing and camera, sound are so nice,', 'Nice mobile Sony you are always best excellent camera and music', 'Camera not great for this prize tag, purchased from seller SPEEDO, his price from 400 INR less Fassured seller beacuse he selling OPEN box phone i.e seal is broken, so this seller should be in the open box phone category.', 'not worth of money go. for mi product', 'Super', 'nice proudct', 'osom. very good phone', 'Very nice and slim phone but ear phone not good no any identification teg of ear phone.and my phone display is black In 2nd day after purchase.so I returned', 'Worst phone till in my life...battery, heating, camera, 4g, sipery are the major issue with this mobile.. But processor is better....', 'nice', 'After 1year later review, sony is Sony.. Performence is too good, no lag, no hang.. This is 2nd sony phone... Camre is original Sony 23mp, pictures is stunning good quality...', 'Nice', 'superb phone with awesomeness filled.camera is great.', 'Camera is good', 'Great Phone for the price, display is outstanding.. vibrant colours, call clarity is great, never faced call disconnect issues in the same area where other phones give issues. only downside is that Phone feels very big in hand and I wish it should have stereo speakers.', 'Worst product of Sony. I purchased two mobiles at the same time both display are not good. I changed display two time again the same problem. I claimed warranty but no use', 'this picture is teken sony xperiya xa1 plus', 'Nice one', \"All the issues like battery backup and system isn't responding... Problems are resolved after few updates.. Phone gets heat while heavy usage.. But battery backup extreme..Battery care automatically adjust charging speed if u take a mobile within 2 hours first time you get around 70% & next time you will get around 90%...battery care AI functions well.... Overall best for display, battery, sound quality and camera quality.\", 'nice', 'Good 👍', 'used one month and no any issue created so good product', \"Amazing phone with the premium specifications delivered by flip kart in no time. Thanks for the freebies flip kart. Seems I got it at a steal!!! Yuhooo. Peeps don't go by the negative reviews about this phone. It is simply a great buy in all respects at this price\", 'Best phone in the world', 'awesome phone', 'Superb best value for the money', \"IT's mindblownig Product....Why Because I am SONY Employee...i love SONY\", 'Fast & Perfect Delivery. Best Product. Sony.', 'ultimate phone', 'nice phone but i got sealed open set.', 'Nice product from. Sony as usual. Good sound quality and display. Good battery backup too.', 'Biggest fan of Sony and it never disppoints me.', 'nice', 'Nice mobile', 'Very good Phone sony is the best', 'All specifications are awesome', 'I liked very much', 'wow super awesome', 'Wonderful', 'Sony is always good.', 'Excellent phone 📱', 'good my friend loved it', 'Camera problem in this device', 'My Favorite Sony 📱', 'I really regret buying this phone. This phone simply cannot handle apps open in the background. And after some times it throws error \"Process system is not responding\" Please check the official sony forum for this. Camera is laggy and takes 2 seconds to save a photo and in between you cannot do anything Does not support VOLTE The proximity sensor has issues for sure and phone screen turns on while talking(at times. not always) Overall Sluggish phone. Not worth money. Battery charging is slow. Photo quality is average I never complained in my life so much as much I am complaining about this phone. I have used mid and high range android phones and this phone is really some damn old age phone. Fingerprint unlock is very very fast Display is average In call volume is average Double tap to wake is not supported at the moment. Phone looks good in design and that is the only best part of the phone. Phone screen does not turn on when you get notifications like SMS or watsapp or email. So for each OTP sms you have to unlock the screen. Read about this on internet as well. First time I would say that go for any other chinese phone rather than this phone.', 'amazing mobile', 'Very Sad thing. I Purchased this sony xperia xa1 plus for rs. 24,990 on April 5th. But now the Selling price is only 13990/-', 'very good product', 'Perfect phone well done', 'phone is little bit costly. no worried when it is Sony xperia', 'Very nice', 'Awesome SONY', 'This is my second sony handset.. I used z2 for 5 yrs plus and sold.. Changed brand n select honor but there was no match of honor 7x with Sony brand.. So I switch to Sony again.. Everything is good.. Sony is Sony..', 'Very good quality', 'very nyc mobile A1 performance']\n"
     ]
    }
   ],
   "source": [
    "clean_review = []\n",
    "for r in only_review:\n",
    "    r= r.strip()\n",
    "    z = re.sub(\"\\\\n+\",' ',r)\n",
    "    clean_review.append(z)\n",
    "print(clean_review)"
   ]
  },
  {
   "cell_type": "code",
   "execution_count": 16,
   "id": "08dd5727",
   "metadata": {},
   "outputs": [],
   "source": [
    "df1['Rating_Score']=r1\n",
    "df1['Review']=clean_review"
   ]
  },
  {
   "cell_type": "code",
   "execution_count": 17,
   "id": "9023fefb",
   "metadata": {},
   "outputs": [
    {
     "data": {
      "text/html": [
       "<div>\n",
       "<style scoped>\n",
       "    .dataframe tbody tr th:only-of-type {\n",
       "        vertical-align: middle;\n",
       "    }\n",
       "\n",
       "    .dataframe tbody tr th {\n",
       "        vertical-align: top;\n",
       "    }\n",
       "\n",
       "    .dataframe thead th {\n",
       "        text-align: right;\n",
       "    }\n",
       "</style>\n",
       "<table border=\"1\" class=\"dataframe\">\n",
       "  <thead>\n",
       "    <tr style=\"text-align: right;\">\n",
       "      <th></th>\n",
       "      <th>Reviewer_Name</th>\n",
       "      <th>Buy_Time</th>\n",
       "      <th>Feedback</th>\n",
       "      <th>Rating_Score</th>\n",
       "      <th>Review</th>\n",
       "    </tr>\n",
       "  </thead>\n",
       "  <tbody>\n",
       "    <tr>\n",
       "      <th>0</th>\n",
       "      <td>Shatarupa Banerjee</td>\n",
       "      <td>Oct, 2017</td>\n",
       "      <td>Love Sony - Just wow!</td>\n",
       "      <td>5</td>\n",
       "      <td>bought the blue one and have been using since ...</td>\n",
       "    </tr>\n",
       "    <tr>\n",
       "      <th>1</th>\n",
       "      <td>jishu  Choudhury</td>\n",
       "      <td>Jul, 2018</td>\n",
       "      <td>Must buy!</td>\n",
       "      <td>5</td>\n",
       "      <td>Ok the review from me is the first tym i m doi...</td>\n",
       "    </tr>\n",
       "    <tr>\n",
       "      <th>2</th>\n",
       "      <td>Sakthivel Svl</td>\n",
       "      <td>May, 2018</td>\n",
       "      <td>Great Mobile at Budget Price</td>\n",
       "      <td>5</td>\n",
       "      <td>Compare all Sony Mobiles this XA1 Plus is grea...</td>\n",
       "    </tr>\n",
       "    <tr>\n",
       "      <th>3</th>\n",
       "      <td>Vikram Kumar</td>\n",
       "      <td>Nov, 2018</td>\n",
       "      <td>Must buy!</td>\n",
       "      <td>5</td>\n",
       "      <td>A great phone. As expected by Sony. Got it in ...</td>\n",
       "    </tr>\n",
       "    <tr>\n",
       "      <th>4</th>\n",
       "      <td>chirodip  bhadra</td>\n",
       "      <td>Dec, 2017</td>\n",
       "      <td>Terrific</td>\n",
       "      <td>5</td>\n",
       "      <td>Fabulous just love it extremely handy and conv...</td>\n",
       "    </tr>\n",
       "    <tr>\n",
       "      <th>...</th>\n",
       "      <td>...</td>\n",
       "      <td>...</td>\n",
       "      <td>...</td>\n",
       "      <td>...</td>\n",
       "      <td>...</td>\n",
       "    </tr>\n",
       "    <tr>\n",
       "      <th>195</th>\n",
       "      <td>Flipkart Customer</td>\n",
       "      <td>Sep, 2018</td>\n",
       "      <td>Brilliant</td>\n",
       "      <td>5</td>\n",
       "      <td>Very nice</td>\n",
       "    </tr>\n",
       "    <tr>\n",
       "      <th>196</th>\n",
       "      <td>TAUFIK SHAIKH</td>\n",
       "      <td>Sep, 2018</td>\n",
       "      <td>Awesome</td>\n",
       "      <td>5</td>\n",
       "      <td>Awesome SONY</td>\n",
       "    </tr>\n",
       "    <tr>\n",
       "      <th>197</th>\n",
       "      <td>Anjula Chauhan</td>\n",
       "      <td>Aug, 2018</td>\n",
       "      <td>Beautiful n value for money</td>\n",
       "      <td>5</td>\n",
       "      <td>This is my second sony handset.. I used z2 for...</td>\n",
       "    </tr>\n",
       "    <tr>\n",
       "      <th>198</th>\n",
       "      <td>Anup Aind</td>\n",
       "      <td>Aug, 2018</td>\n",
       "      <td>Classy product</td>\n",
       "      <td>5</td>\n",
       "      <td>Very good quality</td>\n",
       "    </tr>\n",
       "    <tr>\n",
       "      <th>199</th>\n",
       "      <td>Sourav Kurmi</td>\n",
       "      <td>Aug, 2018</td>\n",
       "      <td>Simply awesome</td>\n",
       "      <td>5</td>\n",
       "      <td>very nyc mobile A1 performance</td>\n",
       "    </tr>\n",
       "  </tbody>\n",
       "</table>\n",
       "<p>200 rows × 5 columns</p>\n",
       "</div>"
      ],
      "text/plain": [
       "          Reviewer_Name   Buy_Time                      Feedback Rating_Score  \\\n",
       "0    Shatarupa Banerjee  Oct, 2017         Love Sony - Just wow!            5   \n",
       "1     jishu  Choudhury   Jul, 2018                     Must buy!            5   \n",
       "2         Sakthivel Svl  May, 2018  Great Mobile at Budget Price            5   \n",
       "3          Vikram Kumar  Nov, 2018                     Must buy!            5   \n",
       "4      chirodip  bhadra  Dec, 2017                      Terrific            5   \n",
       "..                  ...        ...                           ...          ...   \n",
       "195   Flipkart Customer  Sep, 2018                     Brilliant            5   \n",
       "196       TAUFIK SHAIKH  Sep, 2018                       Awesome            5   \n",
       "197      Anjula Chauhan  Aug, 2018   Beautiful n value for money            5   \n",
       "198           Anup Aind  Aug, 2018                Classy product            5   \n",
       "199        Sourav Kurmi  Aug, 2018                Simply awesome            5   \n",
       "\n",
       "                                                Review  \n",
       "0    bought the blue one and have been using since ...  \n",
       "1    Ok the review from me is the first tym i m doi...  \n",
       "2    Compare all Sony Mobiles this XA1 Plus is grea...  \n",
       "3    A great phone. As expected by Sony. Got it in ...  \n",
       "4    Fabulous just love it extremely handy and conv...  \n",
       "..                                                 ...  \n",
       "195                                          Very nice  \n",
       "196                                       Awesome SONY  \n",
       "197  This is my second sony handset.. I used z2 for...  \n",
       "198                                  Very good quality  \n",
       "199                     very nyc mobile A1 performance  \n",
       "\n",
       "[200 rows x 5 columns]"
      ]
     },
     "execution_count": 17,
     "metadata": {},
     "output_type": "execute_result"
    }
   ],
   "source": [
    "df1"
   ]
  },
  {
   "cell_type": "code",
   "execution_count": 20,
   "id": "a43a3086",
   "metadata": {},
   "outputs": [
    {
     "data": {
      "text/plain": [
       "'bought the blue one and have been using since one week. IPhone has become such a cliché these days, which is why I decided to go for Sony, which produces premium devices. First mid-range Sony phone with 5.5\" display. Very smooth operation. Super fast fingerprint sensor. Excellent cameras - although I personally found the front camera better than the back one. Two days battery backup on full charging and moderate usage. Heavy usage and all day internet/Wi-Fi will give you around 1.5 days. Even 15% battery will give you another 5 hours on stamina mode. Clear and loud speakers. Not to speak of the rich feel of the phone. Beats every other phone in this price segment, both looks and performance wise. Perfect size for small hands as well. Not too bulky like Samsung 5.5\" display phones. The blue one is an unusually cool colour, unlike the regular black and gold - trust Sony to include the best in its products.'"
      ]
     },
     "execution_count": 20,
     "metadata": {},
     "output_type": "execute_result"
    }
   ],
   "source": [
    "df1.iloc[0,4]"
   ]
  },
  {
   "cell_type": "code",
   "execution_count": 21,
   "id": "569d6099",
   "metadata": {},
   "outputs": [],
   "source": [
    "df1.to_csv('Team_5_Flipkart_Sony.csv')"
   ]
  },
  {
   "cell_type": "code",
   "execution_count": null,
   "id": "5b7ad4f8",
   "metadata": {},
   "outputs": [],
   "source": []
  },
  {
   "cell_type": "code",
   "execution_count": null,
   "id": "5660950c",
   "metadata": {},
   "outputs": [],
   "source": []
  }
 ],
 "metadata": {
  "kernelspec": {
   "display_name": "Python 3",
   "language": "python",
   "name": "python3"
  },
  "language_info": {
   "codemirror_mode": {
    "name": "ipython",
    "version": 3
   },
   "file_extension": ".py",
   "mimetype": "text/x-python",
   "name": "python",
   "nbconvert_exporter": "python",
   "pygments_lexer": "ipython3",
   "version": "3.8.8"
  }
 },
 "nbformat": 4,
 "nbformat_minor": 5
}
