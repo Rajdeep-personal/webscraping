{
  "cells": [
    {
      "cell_type": "code",
      "execution_count": 1,
      "id": "a4a93866",
      "metadata": {
        "id": "a4a93866"
      },
      "outputs": [],
      "source": [
        "import numpy as np\n",
        "import pandas as pd\n",
        "import os\n",
        "import nltk"
      ]
    },
    {
      "cell_type": "code",
      "source": [
        "from google.colab import drive\n",
        "drive.mount('/content/drive')"
      ],
      "metadata": {
        "colab": {
          "base_uri": "https://localhost:8080/"
        },
        "id": "gBcr-w9xQnEz",
        "outputId": "62f843ae-db1e-448f-aefe-8e75484528a9"
      },
      "id": "gBcr-w9xQnEz",
      "execution_count": 2,
      "outputs": [
        {
          "output_type": "stream",
          "name": "stdout",
          "text": [
            "Mounted at /content/drive\n"
          ]
        }
      ]
    },
    {
      "cell_type": "code",
      "execution_count": 6,
      "id": "0a4da8de",
      "metadata": {
        "id": "0a4da8de"
      },
      "outputs": [],
      "source": [
        "path = \"/content/drive/MyDrive/Capstone/Reviews/All\"\n"
      ]
    },
    {
      "cell_type": "code",
      "execution_count": 4,
      "id": "c5529410",
      "metadata": {
        "id": "c5529410"
      },
      "outputs": [],
      "source": [
        "os.chdir(path)"
      ]
    },
    {
      "cell_type": "code",
      "execution_count": 5,
      "id": "c0f64ebc",
      "metadata": {
        "id": "c0f64ebc"
      },
      "outputs": [],
      "source": [
        "lib = os.listdir(path)"
      ]
    },
    {
      "cell_type": "code",
      "source": [
        "#!rm -rf \"/content/drive/MyDrive/Capstone/Reviews/All/rel_component\""
      ],
      "metadata": {
        "id": "zwzq9vXvThmp"
      },
      "id": "zwzq9vXvThmp",
      "execution_count": 7,
      "outputs": []
    },
    {
      "cell_type": "code",
      "execution_count": 8,
      "id": "e60594e1",
      "metadata": {
        "id": "e60594e1"
      },
      "outputs": [],
      "source": [
        "lines = {}\n",
        "for i in range(len(lib)):\n",
        "    with open(lib[i], encoding = 'utf-8') as f:\n",
        "        lines[i] = f.readlines()"
      ]
    },
    {
      "cell_type": "code",
      "execution_count": 62,
      "id": "279ff6be",
      "metadata": {
        "id": "279ff6be"
      },
      "outputs": [],
      "source": [
        "a = pd.DataFrame({'reviews' : [], 'sentences' : []})"
      ]
    },
    {
      "cell_type": "code",
      "execution_count": 63,
      "id": "d29f6e99",
      "metadata": {
        "id": "d29f6e99"
      },
      "outputs": [],
      "source": [
        "for i in range(len(lines)):\n",
        "    for j in range(len(lines[i])):\n",
        "        d = {'reviews': i, 'sentences':lines[i][j]}\n",
        "        a = a.append(d, ignore_index = True)"
      ]
    },
    {
      "cell_type": "code",
      "source": [
        "a"
      ],
      "metadata": {
        "colab": {
          "base_uri": "https://localhost:8080/",
          "height": 332
        },
        "id": "HQJADO_B8JAr",
        "outputId": "48281f70-77bf-4d20-edc6-a5c77512f486"
      },
      "id": "HQJADO_B8JAr",
      "execution_count": 64,
      "outputs": [
        {
          "output_type": "execute_result",
          "data": {
            "text/plain": [
              "   reviews                                          sentences\n",
              "0      0.0                    I got the IPhone 8 yesterday.\\n\n",
              "1      0.0                       I am really happy with it!\\n\n",
              "2      0.0              It looks and works like new so far.\\n\n",
              "3      1.0                Bought this to replace iPhone 5s.\\n\n",
              "4      1.0                                 I’m happy I did.\\n\n",
              "5      1.0  Only drawback I have found is has poor recepti...\n",
              "6      2.0   Works great, looks like new, so far no issues.\\n\n",
              "7      2.0                                      Great price\\n\n",
              "8      3.0  This is the first time I’ve bought a phone not..."
            ],
            "text/html": [
              "\n",
              "  <div id=\"df-f63d1489-63d0-4749-bccd-81a79c52ba5e\">\n",
              "    <div class=\"colab-df-container\">\n",
              "      <div>\n",
              "<style scoped>\n",
              "    .dataframe tbody tr th:only-of-type {\n",
              "        vertical-align: middle;\n",
              "    }\n",
              "\n",
              "    .dataframe tbody tr th {\n",
              "        vertical-align: top;\n",
              "    }\n",
              "\n",
              "    .dataframe thead th {\n",
              "        text-align: right;\n",
              "    }\n",
              "</style>\n",
              "<table border=\"1\" class=\"dataframe\">\n",
              "  <thead>\n",
              "    <tr style=\"text-align: right;\">\n",
              "      <th></th>\n",
              "      <th>reviews</th>\n",
              "      <th>sentences</th>\n",
              "    </tr>\n",
              "  </thead>\n",
              "  <tbody>\n",
              "    <tr>\n",
              "      <th>0</th>\n",
              "      <td>0.0</td>\n",
              "      <td>I got the IPhone 8 yesterday.\\n</td>\n",
              "    </tr>\n",
              "    <tr>\n",
              "      <th>1</th>\n",
              "      <td>0.0</td>\n",
              "      <td>I am really happy with it!\\n</td>\n",
              "    </tr>\n",
              "    <tr>\n",
              "      <th>2</th>\n",
              "      <td>0.0</td>\n",
              "      <td>It looks and works like new so far.\\n</td>\n",
              "    </tr>\n",
              "    <tr>\n",
              "      <th>3</th>\n",
              "      <td>1.0</td>\n",
              "      <td>Bought this to replace iPhone 5s.\\n</td>\n",
              "    </tr>\n",
              "    <tr>\n",
              "      <th>4</th>\n",
              "      <td>1.0</td>\n",
              "      <td>I’m happy I did.\\n</td>\n",
              "    </tr>\n",
              "    <tr>\n",
              "      <th>5</th>\n",
              "      <td>1.0</td>\n",
              "      <td>Only drawback I have found is has poor recepti...</td>\n",
              "    </tr>\n",
              "    <tr>\n",
              "      <th>6</th>\n",
              "      <td>2.0</td>\n",
              "      <td>Works great, looks like new, so far no issues.\\n</td>\n",
              "    </tr>\n",
              "    <tr>\n",
              "      <th>7</th>\n",
              "      <td>2.0</td>\n",
              "      <td>Great price\\n</td>\n",
              "    </tr>\n",
              "    <tr>\n",
              "      <th>8</th>\n",
              "      <td>3.0</td>\n",
              "      <td>This is the first time I’ve bought a phone not...</td>\n",
              "    </tr>\n",
              "  </tbody>\n",
              "</table>\n",
              "</div>\n",
              "      <button class=\"colab-df-convert\" onclick=\"convertToInteractive('df-f63d1489-63d0-4749-bccd-81a79c52ba5e')\"\n",
              "              title=\"Convert this dataframe to an interactive table.\"\n",
              "              style=\"display:none;\">\n",
              "        \n",
              "  <svg xmlns=\"http://www.w3.org/2000/svg\" height=\"24px\"viewBox=\"0 0 24 24\"\n",
              "       width=\"24px\">\n",
              "    <path d=\"M0 0h24v24H0V0z\" fill=\"none\"/>\n",
              "    <path d=\"M18.56 5.44l.94 2.06.94-2.06 2.06-.94-2.06-.94-.94-2.06-.94 2.06-2.06.94zm-11 1L8.5 8.5l.94-2.06 2.06-.94-2.06-.94L8.5 2.5l-.94 2.06-2.06.94zm10 10l.94 2.06.94-2.06 2.06-.94-2.06-.94-.94-2.06-.94 2.06-2.06.94z\"/><path d=\"M17.41 7.96l-1.37-1.37c-.4-.4-.92-.59-1.43-.59-.52 0-1.04.2-1.43.59L10.3 9.45l-7.72 7.72c-.78.78-.78 2.05 0 2.83L4 21.41c.39.39.9.59 1.41.59.51 0 1.02-.2 1.41-.59l7.78-7.78 2.81-2.81c.8-.78.8-2.07 0-2.86zM5.41 20L4 18.59l7.72-7.72 1.47 1.35L5.41 20z\"/>\n",
              "  </svg>\n",
              "      </button>\n",
              "      \n",
              "  <style>\n",
              "    .colab-df-container {\n",
              "      display:flex;\n",
              "      flex-wrap:wrap;\n",
              "      gap: 12px;\n",
              "    }\n",
              "\n",
              "    .colab-df-convert {\n",
              "      background-color: #E8F0FE;\n",
              "      border: none;\n",
              "      border-radius: 50%;\n",
              "      cursor: pointer;\n",
              "      display: none;\n",
              "      fill: #1967D2;\n",
              "      height: 32px;\n",
              "      padding: 0 0 0 0;\n",
              "      width: 32px;\n",
              "    }\n",
              "\n",
              "    .colab-df-convert:hover {\n",
              "      background-color: #E2EBFA;\n",
              "      box-shadow: 0px 1px 2px rgba(60, 64, 67, 0.3), 0px 1px 3px 1px rgba(60, 64, 67, 0.15);\n",
              "      fill: #174EA6;\n",
              "    }\n",
              "\n",
              "    [theme=dark] .colab-df-convert {\n",
              "      background-color: #3B4455;\n",
              "      fill: #D2E3FC;\n",
              "    }\n",
              "\n",
              "    [theme=dark] .colab-df-convert:hover {\n",
              "      background-color: #434B5C;\n",
              "      box-shadow: 0px 1px 3px 1px rgba(0, 0, 0, 0.15);\n",
              "      filter: drop-shadow(0px 1px 2px rgba(0, 0, 0, 0.3));\n",
              "      fill: #FFFFFF;\n",
              "    }\n",
              "  </style>\n",
              "\n",
              "      <script>\n",
              "        const buttonEl =\n",
              "          document.querySelector('#df-f63d1489-63d0-4749-bccd-81a79c52ba5e button.colab-df-convert');\n",
              "        buttonEl.style.display =\n",
              "          google.colab.kernel.accessAllowed ? 'block' : 'none';\n",
              "\n",
              "        async function convertToInteractive(key) {\n",
              "          const element = document.querySelector('#df-f63d1489-63d0-4749-bccd-81a79c52ba5e');\n",
              "          const dataTable =\n",
              "            await google.colab.kernel.invokeFunction('convertToInteractive',\n",
              "                                                     [key], {});\n",
              "          if (!dataTable) return;\n",
              "\n",
              "          const docLinkHtml = 'Like what you see? Visit the ' +\n",
              "            '<a target=\"_blank\" href=https://colab.research.google.com/notebooks/data_table.ipynb>data table notebook</a>'\n",
              "            + ' to learn more about interactive tables.';\n",
              "          element.innerHTML = '';\n",
              "          dataTable['output_type'] = 'display_data';\n",
              "          await google.colab.output.renderOutput(dataTable, element);\n",
              "          const docLink = document.createElement('div');\n",
              "          docLink.innerHTML = docLinkHtml;\n",
              "          element.appendChild(docLink);\n",
              "        }\n",
              "      </script>\n",
              "    </div>\n",
              "  </div>\n",
              "  "
            ]
          },
          "metadata": {},
          "execution_count": 64
        }
      ]
    },
    {
      "cell_type": "code",
      "source": [
        "pwd"
      ],
      "metadata": {
        "colab": {
          "base_uri": "https://localhost:8080/",
          "height": 36
        },
        "id": "FpDUVYLl8WLd",
        "outputId": "7deb1a39-aad1-44b0-fbb1-57db370ec2c7"
      },
      "id": "FpDUVYLl8WLd",
      "execution_count": 65,
      "outputs": [
        {
          "output_type": "execute_result",
          "data": {
            "text/plain": [
              "'/content'"
            ],
            "application/vnd.google.colaboratory.intrinsic+json": {
              "type": "string"
            }
          },
          "metadata": {},
          "execution_count": 65
        }
      ]
    },
    {
      "cell_type": "code",
      "source": [
        "%cd '/content'"
      ],
      "metadata": {
        "colab": {
          "base_uri": "https://localhost:8080/"
        },
        "id": "X_wCOnUnVEvv",
        "outputId": "0a10dd75-cfba-4ddb-8517-5748620f7a24"
      },
      "id": "X_wCOnUnVEvv",
      "execution_count": 66,
      "outputs": [
        {
          "output_type": "stream",
          "name": "stdout",
          "text": [
            "/content\n"
          ]
        }
      ]
    },
    {
      "cell_type": "code",
      "source": [
        "pwd"
      ],
      "metadata": {
        "colab": {
          "base_uri": "https://localhost:8080/",
          "height": 36
        },
        "id": "dThuBh8E8bSN",
        "outputId": "0f0d66ff-58d2-441a-cf13-b2b4fae1fff5"
      },
      "id": "dThuBh8E8bSN",
      "execution_count": 67,
      "outputs": [
        {
          "output_type": "execute_result",
          "data": {
            "text/plain": [
              "'/content'"
            ],
            "application/vnd.google.colaboratory.intrinsic+json": {
              "type": "string"
            }
          },
          "metadata": {},
          "execution_count": 67
        }
      ]
    },
    {
      "cell_type": "code",
      "execution_count": 44,
      "id": "d6e9033f",
      "metadata": {
        "id": "d6e9033f"
      },
      "outputs": [],
      "source": [
        "%%capture\n",
        "!pip install -U spacy-nightly --pre\n",
        "!pip install -U pip setuptools wheel\n",
        "!python -m spacy project clone tutorials/rel_component\n",
        "!python -m spacy download en_core_web_trf\n",
        "!pip install -U spacy transformers\n",
        "!pip install typer\n",
        "!pip install spacy[transformers]"
      ]
    },
    {
      "cell_type": "code",
      "source": [
        "import spacy\n",
        "import random\n",
        "import typer\n",
        "from pathlib import Path\n",
        "import spacy\n",
        "from spacy.tokens import DocBin, Doc\n",
        "from spacy.training.example import Example\n",
        "from rel_pipe import make_relation_extractor, score_relations\n",
        "from rel_model import create_relation_model, create_classification_layer, create_instances, create_tensors"
      ],
      "metadata": {
        "id": "8plKCQwxdIi0"
      },
      "id": "8plKCQwxdIi0",
      "execution_count": 45,
      "outputs": []
    },
    {
      "cell_type": "code",
      "source": [
        "text = a['sentences'].to_list()"
      ],
      "metadata": {
        "id": "9Gb-uusn_mxO"
      },
      "id": "9Gb-uusn_mxO",
      "execution_count": 68,
      "outputs": []
    },
    {
      "cell_type": "code",
      "source": [
        "len(text)"
      ],
      "metadata": {
        "colab": {
          "base_uri": "https://localhost:8080/"
        },
        "id": "5CjgSi2-_ogw",
        "outputId": "908f9961-fe30-4da2-a65e-2b3519b4071e"
      },
      "id": "5CjgSi2-_ogw",
      "execution_count": 69,
      "outputs": [
        {
          "output_type": "execute_result",
          "data": {
            "text/plain": [
              "9"
            ]
          },
          "metadata": {},
          "execution_count": 69
        }
      ]
    },
    {
      "cell_type": "code",
      "source": [
        "text"
      ],
      "metadata": {
        "colab": {
          "base_uri": "https://localhost:8080/"
        },
        "id": "EqburGP0_rAL",
        "outputId": "7b26bc62-2f32-4b9d-d6c6-e97143da0cb3"
      },
      "id": "EqburGP0_rAL",
      "execution_count": 70,
      "outputs": [
        {
          "output_type": "execute_result",
          "data": {
            "text/plain": [
              "['I got the IPhone 8 yesterday.\\n',\n",
              " 'I am really happy with it!\\n',\n",
              " 'It looks and works like new so far.\\n',\n",
              " 'Bought this to replace iPhone 5s.\\n',\n",
              " 'I’m happy I did.\\n',\n",
              " 'Only drawback I have found is has poor reception inside of the machine shop I work in compared to the 5s.\\n',\n",
              " 'Works great, looks like new, so far no issues.\\n',\n",
              " 'Great price\\n',\n",
              " 'This is the first time I’ve bought a phone not from my phone company and it came with a broken camera filled with debris so now I have to send it back and hope I get a fully functioning phone back\\n']"
            ]
          },
          "metadata": {},
          "execution_count": 70
        }
      ]
    },
    {
      "cell_type": "code",
      "source": [
        "nlp = spacy.load(\"/content/drive/MyDrive/Capstone/content/model-best\")\n",
        "nlp.add_pipe('sentencizer')"
      ],
      "metadata": {
        "colab": {
          "base_uri": "https://localhost:8080/"
        },
        "id": "9Mn5eOcNdKtn",
        "outputId": "c9216209-5aa9-4440-ee33-879bbd7f4001"
      },
      "id": "9Mn5eOcNdKtn",
      "execution_count": 71,
      "outputs": [
        {
          "output_type": "execute_result",
          "data": {
            "text/plain": [
              "<spacy.pipeline.sentencizer.Sentencizer at 0x7f16d85fde10>"
            ]
          },
          "metadata": {},
          "execution_count": 71
        }
      ]
    },
    {
      "cell_type": "code",
      "source": [
        "text"
      ],
      "metadata": {
        "colab": {
          "base_uri": "https://localhost:8080/"
        },
        "id": "ucE4lxtKVSeK",
        "outputId": "45b0e298-7876-4ea0-b33e-58387017e2ca"
      },
      "id": "ucE4lxtKVSeK",
      "execution_count": 72,
      "outputs": [
        {
          "output_type": "execute_result",
          "data": {
            "text/plain": [
              "['I got the IPhone 8 yesterday.\\n',\n",
              " 'I am really happy with it!\\n',\n",
              " 'It looks and works like new so far.\\n',\n",
              " 'Bought this to replace iPhone 5s.\\n',\n",
              " 'I’m happy I did.\\n',\n",
              " 'Only drawback I have found is has poor reception inside of the machine shop I work in compared to the 5s.\\n',\n",
              " 'Works great, looks like new, so far no issues.\\n',\n",
              " 'Great price\\n',\n",
              " 'This is the first time I’ve bought a phone not from my phone company and it came with a broken camera filled with debris so now I have to send it back and hope I get a fully functioning phone back\\n']"
            ]
          },
          "metadata": {},
          "execution_count": 72
        }
      ]
    },
    {
      "cell_type": "code",
      "source": [
        "b = pd.DataFrame({'sentences':[], 'ASP':[], 'OPI':[] })"
      ],
      "metadata": {
        "id": "HCnEdp1m2TbD"
      },
      "id": "HCnEdp1m2TbD",
      "execution_count": 88,
      "outputs": []
    },
    {
      "cell_type": "code",
      "source": [
        "b"
      ],
      "metadata": {
        "colab": {
          "base_uri": "https://localhost:8080/",
          "height": 49
        },
        "id": "OG0zQoo1_kb_",
        "outputId": "3d5e954e-d230-4ef4-97de-30f83b2c6ff8"
      },
      "id": "OG0zQoo1_kb_",
      "execution_count": 89,
      "outputs": [
        {
          "output_type": "execute_result",
          "data": {
            "text/plain": [
              "Empty DataFrame\n",
              "Columns: [sentences, ASP, OPI]\n",
              "Index: []"
            ],
            "text/html": [
              "\n",
              "  <div id=\"df-30e342b7-c2c1-4b67-b9ab-f93e86745654\">\n",
              "    <div class=\"colab-df-container\">\n",
              "      <div>\n",
              "<style scoped>\n",
              "    .dataframe tbody tr th:only-of-type {\n",
              "        vertical-align: middle;\n",
              "    }\n",
              "\n",
              "    .dataframe tbody tr th {\n",
              "        vertical-align: top;\n",
              "    }\n",
              "\n",
              "    .dataframe thead th {\n",
              "        text-align: right;\n",
              "    }\n",
              "</style>\n",
              "<table border=\"1\" class=\"dataframe\">\n",
              "  <thead>\n",
              "    <tr style=\"text-align: right;\">\n",
              "      <th></th>\n",
              "      <th>sentences</th>\n",
              "      <th>ASP</th>\n",
              "      <th>OPI</th>\n",
              "    </tr>\n",
              "  </thead>\n",
              "  <tbody>\n",
              "  </tbody>\n",
              "</table>\n",
              "</div>\n",
              "      <button class=\"colab-df-convert\" onclick=\"convertToInteractive('df-30e342b7-c2c1-4b67-b9ab-f93e86745654')\"\n",
              "              title=\"Convert this dataframe to an interactive table.\"\n",
              "              style=\"display:none;\">\n",
              "        \n",
              "  <svg xmlns=\"http://www.w3.org/2000/svg\" height=\"24px\"viewBox=\"0 0 24 24\"\n",
              "       width=\"24px\">\n",
              "    <path d=\"M0 0h24v24H0V0z\" fill=\"none\"/>\n",
              "    <path d=\"M18.56 5.44l.94 2.06.94-2.06 2.06-.94-2.06-.94-.94-2.06-.94 2.06-2.06.94zm-11 1L8.5 8.5l.94-2.06 2.06-.94-2.06-.94L8.5 2.5l-.94 2.06-2.06.94zm10 10l.94 2.06.94-2.06 2.06-.94-2.06-.94-.94-2.06-.94 2.06-2.06.94z\"/><path d=\"M17.41 7.96l-1.37-1.37c-.4-.4-.92-.59-1.43-.59-.52 0-1.04.2-1.43.59L10.3 9.45l-7.72 7.72c-.78.78-.78 2.05 0 2.83L4 21.41c.39.39.9.59 1.41.59.51 0 1.02-.2 1.41-.59l7.78-7.78 2.81-2.81c.8-.78.8-2.07 0-2.86zM5.41 20L4 18.59l7.72-7.72 1.47 1.35L5.41 20z\"/>\n",
              "  </svg>\n",
              "      </button>\n",
              "      \n",
              "  <style>\n",
              "    .colab-df-container {\n",
              "      display:flex;\n",
              "      flex-wrap:wrap;\n",
              "      gap: 12px;\n",
              "    }\n",
              "\n",
              "    .colab-df-convert {\n",
              "      background-color: #E8F0FE;\n",
              "      border: none;\n",
              "      border-radius: 50%;\n",
              "      cursor: pointer;\n",
              "      display: none;\n",
              "      fill: #1967D2;\n",
              "      height: 32px;\n",
              "      padding: 0 0 0 0;\n",
              "      width: 32px;\n",
              "    }\n",
              "\n",
              "    .colab-df-convert:hover {\n",
              "      background-color: #E2EBFA;\n",
              "      box-shadow: 0px 1px 2px rgba(60, 64, 67, 0.3), 0px 1px 3px 1px rgba(60, 64, 67, 0.15);\n",
              "      fill: #174EA6;\n",
              "    }\n",
              "\n",
              "    [theme=dark] .colab-df-convert {\n",
              "      background-color: #3B4455;\n",
              "      fill: #D2E3FC;\n",
              "    }\n",
              "\n",
              "    [theme=dark] .colab-df-convert:hover {\n",
              "      background-color: #434B5C;\n",
              "      box-shadow: 0px 1px 3px 1px rgba(0, 0, 0, 0.15);\n",
              "      filter: drop-shadow(0px 1px 2px rgba(0, 0, 0, 0.3));\n",
              "      fill: #FFFFFF;\n",
              "    }\n",
              "  </style>\n",
              "\n",
              "      <script>\n",
              "        const buttonEl =\n",
              "          document.querySelector('#df-30e342b7-c2c1-4b67-b9ab-f93e86745654 button.colab-df-convert');\n",
              "        buttonEl.style.display =\n",
              "          google.colab.kernel.accessAllowed ? 'block' : 'none';\n",
              "\n",
              "        async function convertToInteractive(key) {\n",
              "          const element = document.querySelector('#df-30e342b7-c2c1-4b67-b9ab-f93e86745654');\n",
              "          const dataTable =\n",
              "            await google.colab.kernel.invokeFunction('convertToInteractive',\n",
              "                                                     [key], {});\n",
              "          if (!dataTable) return;\n",
              "\n",
              "          const docLinkHtml = 'Like what you see? Visit the ' +\n",
              "            '<a target=\"_blank\" href=https://colab.research.google.com/notebooks/data_table.ipynb>data table notebook</a>'\n",
              "            + ' to learn more about interactive tables.';\n",
              "          element.innerHTML = '';\n",
              "          dataTable['output_type'] = 'display_data';\n",
              "          await google.colab.output.renderOutput(dataTable, element);\n",
              "          const docLink = document.createElement('div');\n",
              "          docLink.innerHTML = docLinkHtml;\n",
              "          element.appendChild(docLink);\n",
              "        }\n",
              "      </script>\n",
              "    </div>\n",
              "  </div>\n",
              "  "
            ]
          },
          "metadata": {},
          "execution_count": 89
        }
      ]
    },
    {
      "cell_type": "code",
      "source": [
        "#for doc in nlp.pipe(text, disable=[\"tagger\"]):\n",
        "for e in doc.ents:\n",
        "  print(e)"
      ],
      "metadata": {
        "colab": {
          "base_uri": "https://localhost:8080/"
        },
        "id": "7qGdBVjHJtqE",
        "outputId": "6567cfd8-8133-462c-e85e-e44bf09eef49"
      },
      "id": "7qGdBVjHJtqE",
      "execution_count": 87,
      "outputs": [
        {
          "output_type": "stream",
          "name": "stdout",
          "text": [
            "broken\n",
            "camera\n",
            "debris\n",
            "fully functioning\n"
          ]
        }
      ]
    },
    {
      "cell_type": "code",
      "source": [
        "if doc.ents:\n",
        "  print('True')\n",
        "else:\n",
        "  print('False')"
      ],
      "metadata": {
        "colab": {
          "base_uri": "https://localhost:8080/"
        },
        "id": "-1_4yZCAMfTB",
        "outputId": "f21765ed-4b7f-4201-f89e-2f2cbc8a26f3"
      },
      "id": "-1_4yZCAMfTB",
      "execution_count": 76,
      "outputs": [
        {
          "output_type": "stream",
          "name": "stdout",
          "text": [
            "True\n"
          ]
        }
      ]
    },
    {
      "cell_type": "code",
      "source": [
        "for e in doc.ents:\n",
        "  print (e.label_)"
      ],
      "metadata": {
        "colab": {
          "base_uri": "https://localhost:8080/"
        },
        "id": "tu1zA8wKNYAN",
        "outputId": "7ed9f0ce-85a4-454c-a760-1099b8a9fa88"
      },
      "id": "tu1zA8wKNYAN",
      "execution_count": 77,
      "outputs": [
        {
          "output_type": "stream",
          "name": "stdout",
          "text": [
            "OPI\n",
            "ASP\n",
            "OPI\n",
            "OPI\n"
          ]
        }
      ]
    },
    {
      "cell_type": "markdown",
      "source": [
        ""
      ],
      "metadata": {
        "id": "KT9OAhZAY6WI"
      },
      "id": "KT9OAhZAY6WI"
    },
    {
      "cell_type": "code",
      "source": [
        "#please ignore this cell this has been taken as a trial. actual code is in the next cell\n",
        "for doc in nlp.pipe(text, disable=[\"tagger\"]):\n",
        "#  print(\"The doc is: \", doc)\n",
        "\n",
        "  if doc.ents:\n",
        "    k = []\n",
        "    for e in doc.ents:\n",
        "      k.append(e.label_)\n",
        "      #print('doc ents :', e)\n",
        "      #print(e.start, e.text, e.label_)\n",
        "      for i in k:\n",
        "        if (i == 'OPI'):\n",
        "          e1 = e.text\n",
        "          e2 = []\n",
        "        elif  (i == 'ASP'):\n",
        "          e2 = e.text\n",
        "          e1= []\n",
        "      d1 = {'sentences': str(doc) , 'ASP':e2, 'OPI':e1}\n",
        "      b = b.append(d1, ignore_index = True)\n",
        "\n",
        "  else:\n",
        "      d1 = {'sentences': str(doc) , 'ASP': [], 'OPI': []}\n",
        "      b = b.append(d1, ignore_index = True)\n",
        "\n",
        "        #a['OPI'] = e.text\n",
        " # print(f\"spans: {[(e.start, e.text, e.label_) for e in doc.ents]}\")\n",
        "   "
      ],
      "metadata": {
        "id": "mi8cXaMcCIAY"
      },
      "id": "mi8cXaMcCIAY",
      "execution_count": 78,
      "outputs": []
    },
    {
      "cell_type": "code",
      "source": [
        "for doc in nlp.pipe(text, disable=[\"tagger\"]):\n",
        "\n",
        "  if doc.ents:\n",
        "    \n",
        "    k1 = \"\"  #ASP\n",
        "    k2 = \"\"  #OPI\n",
        "\n",
        "    for e in doc.ents:\n",
        "\n",
        "      if (e.label_ == 'OPI'):\n",
        "        e2 = e.text\n",
        "        if k2 != \"\":\n",
        "          k2+= ' , '+ e2\n",
        "        else:\n",
        "          k2 += e2  \n",
        "\n",
        "\n",
        "      elif  (e.label == 'ASP'):\n",
        "        e1 = e.text\n",
        "        if k1 != \"\":\n",
        "          k1+= ' , '+ e1\n",
        "        else:\n",
        "          k1 += e1 \n",
        "         \n",
        "    d1 = {'sentences': str(doc) , 'ASP':k1, 'OPI': k2}\n",
        "    b = b.append(d1, ignore_index = True)\n",
        "\n",
        "  else:\n",
        "\n",
        "    d1 = {'sentences': str(doc)}\n",
        "    b = b.append(d1, ignore_index = True)\n",
        "\n",
        "        "
      ],
      "metadata": {
        "id": "iNU4qvx6QzTN"
      },
      "id": "iNU4qvx6QzTN",
      "execution_count": 90,
      "outputs": []
    },
    {
      "cell_type": "code",
      "source": [
        "b"
      ],
      "metadata": {
        "colab": {
          "base_uri": "https://localhost:8080/",
          "height": 332
        },
        "id": "g_hDIGq3V2Lq",
        "outputId": "4f17dd1f-4a40-408f-850b-2b841064c70a"
      },
      "id": "g_hDIGq3V2Lq",
      "execution_count": 91,
      "outputs": [
        {
          "output_type": "execute_result",
          "data": {
            "text/plain": [
              "                                           sentences  ASP  \\\n",
              "0                    I got the IPhone 8 yesterday.\\n  NaN   \n",
              "1                       I am really happy with it!\\n        \n",
              "2              It looks and works like new so far.\\n        \n",
              "3                Bought this to replace iPhone 5s.\\n  NaN   \n",
              "4                                 I’m happy I did.\\n  NaN   \n",
              "5  Only drawback I have found is has poor recepti...        \n",
              "6   Works great, looks like new, so far no issues.\\n        \n",
              "7                                      Great price\\n        \n",
              "8  This is the first time I’ve bought a phone not...        \n",
              "\n",
              "                                   OPI  \n",
              "0                                  NaN  \n",
              "1                         really happy  \n",
              "2                      looks and works  \n",
              "3                                  NaN  \n",
              "4                                  NaN  \n",
              "5                       poor reception  \n",
              "6                          Works great  \n",
              "7                                Great  \n",
              "8  broken , debris , fully functioning  "
            ],
            "text/html": [
              "\n",
              "  <div id=\"df-ec619109-68f1-4383-a82e-f5aa7e860cab\">\n",
              "    <div class=\"colab-df-container\">\n",
              "      <div>\n",
              "<style scoped>\n",
              "    .dataframe tbody tr th:only-of-type {\n",
              "        vertical-align: middle;\n",
              "    }\n",
              "\n",
              "    .dataframe tbody tr th {\n",
              "        vertical-align: top;\n",
              "    }\n",
              "\n",
              "    .dataframe thead th {\n",
              "        text-align: right;\n",
              "    }\n",
              "</style>\n",
              "<table border=\"1\" class=\"dataframe\">\n",
              "  <thead>\n",
              "    <tr style=\"text-align: right;\">\n",
              "      <th></th>\n",
              "      <th>sentences</th>\n",
              "      <th>ASP</th>\n",
              "      <th>OPI</th>\n",
              "    </tr>\n",
              "  </thead>\n",
              "  <tbody>\n",
              "    <tr>\n",
              "      <th>0</th>\n",
              "      <td>I got the IPhone 8 yesterday.\\n</td>\n",
              "      <td>NaN</td>\n",
              "      <td>NaN</td>\n",
              "    </tr>\n",
              "    <tr>\n",
              "      <th>1</th>\n",
              "      <td>I am really happy with it!\\n</td>\n",
              "      <td></td>\n",
              "      <td>really happy</td>\n",
              "    </tr>\n",
              "    <tr>\n",
              "      <th>2</th>\n",
              "      <td>It looks and works like new so far.\\n</td>\n",
              "      <td></td>\n",
              "      <td>looks and works</td>\n",
              "    </tr>\n",
              "    <tr>\n",
              "      <th>3</th>\n",
              "      <td>Bought this to replace iPhone 5s.\\n</td>\n",
              "      <td>NaN</td>\n",
              "      <td>NaN</td>\n",
              "    </tr>\n",
              "    <tr>\n",
              "      <th>4</th>\n",
              "      <td>I’m happy I did.\\n</td>\n",
              "      <td>NaN</td>\n",
              "      <td>NaN</td>\n",
              "    </tr>\n",
              "    <tr>\n",
              "      <th>5</th>\n",
              "      <td>Only drawback I have found is has poor recepti...</td>\n",
              "      <td></td>\n",
              "      <td>poor reception</td>\n",
              "    </tr>\n",
              "    <tr>\n",
              "      <th>6</th>\n",
              "      <td>Works great, looks like new, so far no issues.\\n</td>\n",
              "      <td></td>\n",
              "      <td>Works great</td>\n",
              "    </tr>\n",
              "    <tr>\n",
              "      <th>7</th>\n",
              "      <td>Great price\\n</td>\n",
              "      <td></td>\n",
              "      <td>Great</td>\n",
              "    </tr>\n",
              "    <tr>\n",
              "      <th>8</th>\n",
              "      <td>This is the first time I’ve bought a phone not...</td>\n",
              "      <td></td>\n",
              "      <td>broken , debris , fully functioning</td>\n",
              "    </tr>\n",
              "  </tbody>\n",
              "</table>\n",
              "</div>\n",
              "      <button class=\"colab-df-convert\" onclick=\"convertToInteractive('df-ec619109-68f1-4383-a82e-f5aa7e860cab')\"\n",
              "              title=\"Convert this dataframe to an interactive table.\"\n",
              "              style=\"display:none;\">\n",
              "        \n",
              "  <svg xmlns=\"http://www.w3.org/2000/svg\" height=\"24px\"viewBox=\"0 0 24 24\"\n",
              "       width=\"24px\">\n",
              "    <path d=\"M0 0h24v24H0V0z\" fill=\"none\"/>\n",
              "    <path d=\"M18.56 5.44l.94 2.06.94-2.06 2.06-.94-2.06-.94-.94-2.06-.94 2.06-2.06.94zm-11 1L8.5 8.5l.94-2.06 2.06-.94-2.06-.94L8.5 2.5l-.94 2.06-2.06.94zm10 10l.94 2.06.94-2.06 2.06-.94-2.06-.94-.94-2.06-.94 2.06-2.06.94z\"/><path d=\"M17.41 7.96l-1.37-1.37c-.4-.4-.92-.59-1.43-.59-.52 0-1.04.2-1.43.59L10.3 9.45l-7.72 7.72c-.78.78-.78 2.05 0 2.83L4 21.41c.39.39.9.59 1.41.59.51 0 1.02-.2 1.41-.59l7.78-7.78 2.81-2.81c.8-.78.8-2.07 0-2.86zM5.41 20L4 18.59l7.72-7.72 1.47 1.35L5.41 20z\"/>\n",
              "  </svg>\n",
              "      </button>\n",
              "      \n",
              "  <style>\n",
              "    .colab-df-container {\n",
              "      display:flex;\n",
              "      flex-wrap:wrap;\n",
              "      gap: 12px;\n",
              "    }\n",
              "\n",
              "    .colab-df-convert {\n",
              "      background-color: #E8F0FE;\n",
              "      border: none;\n",
              "      border-radius: 50%;\n",
              "      cursor: pointer;\n",
              "      display: none;\n",
              "      fill: #1967D2;\n",
              "      height: 32px;\n",
              "      padding: 0 0 0 0;\n",
              "      width: 32px;\n",
              "    }\n",
              "\n",
              "    .colab-df-convert:hover {\n",
              "      background-color: #E2EBFA;\n",
              "      box-shadow: 0px 1px 2px rgba(60, 64, 67, 0.3), 0px 1px 3px 1px rgba(60, 64, 67, 0.15);\n",
              "      fill: #174EA6;\n",
              "    }\n",
              "\n",
              "    [theme=dark] .colab-df-convert {\n",
              "      background-color: #3B4455;\n",
              "      fill: #D2E3FC;\n",
              "    }\n",
              "\n",
              "    [theme=dark] .colab-df-convert:hover {\n",
              "      background-color: #434B5C;\n",
              "      box-shadow: 0px 1px 3px 1px rgba(0, 0, 0, 0.15);\n",
              "      filter: drop-shadow(0px 1px 2px rgba(0, 0, 0, 0.3));\n",
              "      fill: #FFFFFF;\n",
              "    }\n",
              "  </style>\n",
              "\n",
              "      <script>\n",
              "        const buttonEl =\n",
              "          document.querySelector('#df-ec619109-68f1-4383-a82e-f5aa7e860cab button.colab-df-convert');\n",
              "        buttonEl.style.display =\n",
              "          google.colab.kernel.accessAllowed ? 'block' : 'none';\n",
              "\n",
              "        async function convertToInteractive(key) {\n",
              "          const element = document.querySelector('#df-ec619109-68f1-4383-a82e-f5aa7e860cab');\n",
              "          const dataTable =\n",
              "            await google.colab.kernel.invokeFunction('convertToInteractive',\n",
              "                                                     [key], {});\n",
              "          if (!dataTable) return;\n",
              "\n",
              "          const docLinkHtml = 'Like what you see? Visit the ' +\n",
              "            '<a target=\"_blank\" href=https://colab.research.google.com/notebooks/data_table.ipynb>data table notebook</a>'\n",
              "            + ' to learn more about interactive tables.';\n",
              "          element.innerHTML = '';\n",
              "          dataTable['output_type'] = 'display_data';\n",
              "          await google.colab.output.renderOutput(dataTable, element);\n",
              "          const docLink = document.createElement('div');\n",
              "          docLink.innerHTML = docLinkHtml;\n",
              "          element.appendChild(docLink);\n",
              "        }\n",
              "      </script>\n",
              "    </div>\n",
              "  </div>\n",
              "  "
            ]
          },
          "metadata": {},
          "execution_count": 91
        }
      ]
    }
  ],
  "metadata": {
    "kernelspec": {
      "display_name": "Python 3",
      "language": "python",
      "name": "python3"
    },
    "language_info": {
      "codemirror_mode": {
        "name": "ipython",
        "version": 3
      },
      "file_extension": ".py",
      "mimetype": "text/x-python",
      "name": "python",
      "nbconvert_exporter": "python",
      "pygments_lexer": "ipython3",
      "version": "3.8.8"
    },
    "colab": {
      "name": "Copy_of_Dataframe_before_bringing_asp_opi_on_review_lines.ipynb",
      "provenance": [],
      "collapsed_sections": []
    },
    "accelerator": "GPU"
  },
  "nbformat": 4,
  "nbformat_minor": 5
}